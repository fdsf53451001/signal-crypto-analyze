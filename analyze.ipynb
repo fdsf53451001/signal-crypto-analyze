{
 "cells": [
  {
   "cell_type": "code",
   "execution_count": 2,
   "metadata": {},
   "outputs": [],
   "source": [
    "import os\n",
    "import pandas as pd\n",
    "import numpy as np\n",
    "import matplotlib.pyplot as plt\n",
    "\n",
    "if not os.path.exists('thinkdsp.py'):\n",
    "    !wget https://github.com/AllenDowney/ThinkDSP/raw/master/code/thinkdsp.py"
   ]
  },
  {
   "cell_type": "markdown",
   "metadata": {},
   "source": [
    "## 資料準備"
   ]
  },
  {
   "cell_type": "code",
   "execution_count": 3,
   "metadata": {},
   "outputs": [
    {
     "data": {
      "text/html": [
       "<div>\n",
       "<style scoped>\n",
       "    .dataframe tbody tr th:only-of-type {\n",
       "        vertical-align: middle;\n",
       "    }\n",
       "\n",
       "    .dataframe tbody tr th {\n",
       "        vertical-align: top;\n",
       "    }\n",
       "\n",
       "    .dataframe thead th {\n",
       "        text-align: right;\n",
       "    }\n",
       "</style>\n",
       "<table border=\"1\" class=\"dataframe\">\n",
       "  <thead>\n",
       "    <tr style=\"text-align: right;\">\n",
       "      <th></th>\n",
       "      <th>Date</th>\n",
       "      <th>Open</th>\n",
       "      <th>High</th>\n",
       "      <th>Low</th>\n",
       "      <th>Close</th>\n",
       "      <th>Adj Close</th>\n",
       "      <th>Volume</th>\n",
       "    </tr>\n",
       "  </thead>\n",
       "  <tbody>\n",
       "    <tr>\n",
       "      <th>0</th>\n",
       "      <td>2014-09-17</td>\n",
       "      <td>465.864014</td>\n",
       "      <td>468.174011</td>\n",
       "      <td>452.421997</td>\n",
       "      <td>457.334015</td>\n",
       "      <td>457.334015</td>\n",
       "      <td>21056800</td>\n",
       "    </tr>\n",
       "    <tr>\n",
       "      <th>1</th>\n",
       "      <td>2014-09-18</td>\n",
       "      <td>456.859985</td>\n",
       "      <td>456.859985</td>\n",
       "      <td>413.104004</td>\n",
       "      <td>424.440002</td>\n",
       "      <td>424.440002</td>\n",
       "      <td>34483200</td>\n",
       "    </tr>\n",
       "    <tr>\n",
       "      <th>2</th>\n",
       "      <td>2014-09-19</td>\n",
       "      <td>424.102997</td>\n",
       "      <td>427.834991</td>\n",
       "      <td>384.532013</td>\n",
       "      <td>394.795990</td>\n",
       "      <td>394.795990</td>\n",
       "      <td>37919700</td>\n",
       "    </tr>\n",
       "    <tr>\n",
       "      <th>3</th>\n",
       "      <td>2014-09-20</td>\n",
       "      <td>394.673004</td>\n",
       "      <td>423.295990</td>\n",
       "      <td>389.882996</td>\n",
       "      <td>408.903992</td>\n",
       "      <td>408.903992</td>\n",
       "      <td>36863600</td>\n",
       "    </tr>\n",
       "    <tr>\n",
       "      <th>4</th>\n",
       "      <td>2014-09-21</td>\n",
       "      <td>408.084991</td>\n",
       "      <td>412.425995</td>\n",
       "      <td>393.181000</td>\n",
       "      <td>398.821014</td>\n",
       "      <td>398.821014</td>\n",
       "      <td>26580100</td>\n",
       "    </tr>\n",
       "    <tr>\n",
       "      <th>...</th>\n",
       "      <td>...</td>\n",
       "      <td>...</td>\n",
       "      <td>...</td>\n",
       "      <td>...</td>\n",
       "      <td>...</td>\n",
       "      <td>...</td>\n",
       "      <td>...</td>\n",
       "    </tr>\n",
       "    <tr>\n",
       "      <th>2819</th>\n",
       "      <td>2022-06-06</td>\n",
       "      <td>29910.283203</td>\n",
       "      <td>31693.291016</td>\n",
       "      <td>29894.187500</td>\n",
       "      <td>31370.671875</td>\n",
       "      <td>31370.671875</td>\n",
       "      <td>31947336829</td>\n",
       "    </tr>\n",
       "    <tr>\n",
       "      <th>2820</th>\n",
       "      <td>2022-06-07</td>\n",
       "      <td>31371.742188</td>\n",
       "      <td>31489.683594</td>\n",
       "      <td>29311.683594</td>\n",
       "      <td>31155.478516</td>\n",
       "      <td>31155.478516</td>\n",
       "      <td>40770974039</td>\n",
       "    </tr>\n",
       "    <tr>\n",
       "      <th>2821</th>\n",
       "      <td>2022-06-08</td>\n",
       "      <td>31151.480469</td>\n",
       "      <td>31253.691406</td>\n",
       "      <td>29944.404297</td>\n",
       "      <td>30214.355469</td>\n",
       "      <td>30214.355469</td>\n",
       "      <td>30242059107</td>\n",
       "    </tr>\n",
       "    <tr>\n",
       "      <th>2822</th>\n",
       "      <td>2022-06-09</td>\n",
       "      <td>30215.279297</td>\n",
       "      <td>30609.310547</td>\n",
       "      <td>30020.265625</td>\n",
       "      <td>30111.998047</td>\n",
       "      <td>30111.998047</td>\n",
       "      <td>21692004719</td>\n",
       "    </tr>\n",
       "    <tr>\n",
       "      <th>2823</th>\n",
       "      <td>2022-06-10</td>\n",
       "      <td>30086.400391</td>\n",
       "      <td>30229.697266</td>\n",
       "      <td>29732.906250</td>\n",
       "      <td>30027.074219</td>\n",
       "      <td>30027.074219</td>\n",
       "      <td>24814614528</td>\n",
       "    </tr>\n",
       "  </tbody>\n",
       "</table>\n",
       "<p>2824 rows × 7 columns</p>\n",
       "</div>"
      ],
      "text/plain": [
       "           Date          Open          High           Low         Close  \\\n",
       "0    2014-09-17    465.864014    468.174011    452.421997    457.334015   \n",
       "1    2014-09-18    456.859985    456.859985    413.104004    424.440002   \n",
       "2    2014-09-19    424.102997    427.834991    384.532013    394.795990   \n",
       "3    2014-09-20    394.673004    423.295990    389.882996    408.903992   \n",
       "4    2014-09-21    408.084991    412.425995    393.181000    398.821014   \n",
       "...         ...           ...           ...           ...           ...   \n",
       "2819 2022-06-06  29910.283203  31693.291016  29894.187500  31370.671875   \n",
       "2820 2022-06-07  31371.742188  31489.683594  29311.683594  31155.478516   \n",
       "2821 2022-06-08  31151.480469  31253.691406  29944.404297  30214.355469   \n",
       "2822 2022-06-09  30215.279297  30609.310547  30020.265625  30111.998047   \n",
       "2823 2022-06-10  30086.400391  30229.697266  29732.906250  30027.074219   \n",
       "\n",
       "         Adj Close       Volume  \n",
       "0       457.334015     21056800  \n",
       "1       424.440002     34483200  \n",
       "2       394.795990     37919700  \n",
       "3       408.903992     36863600  \n",
       "4       398.821014     26580100  \n",
       "...            ...          ...  \n",
       "2819  31370.671875  31947336829  \n",
       "2820  31155.478516  40770974039  \n",
       "2821  30214.355469  30242059107  \n",
       "2822  30111.998047  21692004719  \n",
       "2823  30027.074219  24814614528  \n",
       "\n",
       "[2824 rows x 7 columns]"
      ]
     },
     "execution_count": 3,
     "metadata": {},
     "output_type": "execute_result"
    }
   ],
   "source": [
    "df = pd.read_csv('BTC-USD.csv', parse_dates=[0])\n",
    "df"
   ]
  },
  {
   "cell_type": "code",
   "execution_count": 4,
   "metadata": {},
   "outputs": [],
   "source": [
    "from thinkdsp import Wave\n",
    "ys = df['Close']\n",
    "ts = df.index\n",
    "wave = Wave(ys, ts, framerate=1)"
   ]
  },
  {
   "cell_type": "markdown",
   "metadata": {},
   "source": [
    "## 自相關幣價預測"
   ]
  },
  {
   "cell_type": "code",
   "execution_count": 5,
   "metadata": {},
   "outputs": [],
   "source": [
    "def serial_corr(wave, lag=1):\n",
    "    n = len(wave)\n",
    "    y1 = wave.ys[lag:]\n",
    "    y2 = wave.ys[:n-lag]\n",
    "    corr = np.corrcoef(y1, y2, ddof=0)[0, 1]\n",
    "    return corr\n",
    "    \n",
    "def autocorr(wave):\n",
    "    lags = range(len(wave.ys)//2)\n",
    "    corrs = [serial_corr(wave, lag) for lag in lags]\n",
    "    return lags, corrs"
   ]
  },
  {
   "cell_type": "code",
   "execution_count": 6,
   "metadata": {},
   "outputs": [
    {
     "name": "stdout",
     "output_type": "stream",
     "text": [
      "max correlation lag: 1199  max corr: 0.8899863732963671\n"
     ]
    },
    {
     "name": "stderr",
     "output_type": "stream",
     "text": [
      "/var/folders/r0/svkxhtcd3xgg5nysf7pr4_nw0000gn/T/ipykernel_30762/605067872.py:5: DeprecationWarning: bias and ddof have no effect and are deprecated\n",
      "  corr = np.corrcoef(y1, y2, ddof=0)[0, 1]\n"
     ]
    },
    {
     "data": {
      "text/plain": [
       "[<matplotlib.lines.Line2D at 0x16b5a7e80>]"
      ]
     },
     "execution_count": 6,
     "metadata": {},
     "output_type": "execute_result"
    },
    {
     "data": {
      "image/png": "[encoded data removed]",
      "text/plain": [
       "<Figure size 432x288 with 1 Axes>"
      ]
     },
     "metadata": {
      "needs_background": "light"
     },
     "output_type": "display_data"
    }
   ],
   "source": [
    "# example of finding the autocorrelation of a wave\n",
    "lags, corrs = autocorr(wave)\n",
    "max_corr = max(corrs[100:])   # lag->0, corr always->1, so remove it\n",
    "max_corr_index = corrs.index(max_corr)\n",
    "print('max correlation lag:', max_corr_index,' max corr:', max_corr)\n",
    "plt.plot(lags, corrs)"
   ]
  },
  {
   "cell_type": "code",
   "execution_count": 7,
   "metadata": {},
   "outputs": [],
   "source": [
    "def predict_trend(wave, current_time, window_size): # 計算趨勢\n",
    "    new_wave = wave.copy()\n",
    "    new_wave.ys = new_wave.ys[:current_time]    # 剪取到當前時間點\n",
    "    lags, corrs = autocorr(new_wave)    # 計算自相關曲線\n",
    "    max_corr = max(corrs[100:])   # lag->0, corr always->1, so remove it\n",
    "    max_corr_index = corrs.index(max_corr)  # 計算相關度最高的時間點\n",
    "    # print('max_corr_index',max_corr_index,'; max_corr',max_corr)\n",
    "\n",
    "    next_average = np.mean(np.array(wave.ys[max_corr_index+1:max_corr_index+1+window_size]))\n",
    "    # 計算 x day ~ x+window_size day的平均值，回傳平均-x day的值作為趨勢\n",
    "    return (max_corr,next_average-wave.ys[max_corr_index])"
   ]
  },
  {
   "cell_type": "code",
   "execution_count": 8,
   "metadata": {},
   "outputs": [
    {
     "name": "stderr",
     "output_type": "stream",
     "text": [
      "/var/folders/r0/svkxhtcd3xgg5nysf7pr4_nw0000gn/T/ipykernel_30762/605067872.py:5: DeprecationWarning: bias and ddof have no effect and are deprecated\n",
      "  corr = np.corrcoef(y1, y2, ddof=0)[0, 1]\n"
     ]
    },
    {
     "name": "stdout",
     "output_type": "stream",
     "text": [
      "(0.8899863732963671, 197.74274571428577)\n"
     ]
    }
   ],
   "source": [
    "# test the function\n",
    "print(predict_trend(wave,len(wave),7))"
   ]
  },
  {
   "cell_type": "code",
   "execution_count": 9,
   "metadata": {},
   "outputs": [],
   "source": [
    "def cal_profit(wave, start, end, amount, window_size, trend_threshold, corr_threshold):\n",
    "    profit = []\n",
    "    for day in range(start,end):\n",
    "        (corr,trend) = predict_trend(wave, day, window_size)    # 計算趨勢\n",
    "        if trend>trend_threshold and corr>corr_threshold:   \n",
    "            # 如果趨勢向上(>trend_threshold)，且相關度較大(>corr_threshold)，則開始交易\n",
    "            profit.append((wave.ys[day+window_size] - wave.ys[day]) * amount) \n",
    "            # 交易結果為 (x+window_size day的價格 - x day的價格) * 數量\n",
    "    return profit"
   ]
  },
  {
   "cell_type": "code",
   "execution_count": 32,
   "metadata": {},
   "outputs": [
    {
     "name": "stderr",
     "output_type": "stream",
     "text": [
      "/var/folders/r0/svkxhtcd3xgg5nysf7pr4_nw0000gn/T/ipykernel_30762/605067872.py:5: DeprecationWarning: bias and ddof have no effect and are deprecated\n",
      "  corr = np.corrcoef(y1, y2, ddof=0)[0, 1]\n"
     ]
    },
    {
     "data": {
      "text/plain": [
       "[<matplotlib.lines.Line2D at 0x16bc66cd0>]"
      ]
     },
     "execution_count": 32,
     "metadata": {},
     "output_type": "execute_result"
    },
    {
     "data": {
      "image/png": "[encoded data removed]",
      "text/plain": [
       "<Figure size 432x288 with 1 Axes>"
      ]
     },
     "metadata": {
      "needs_background": "light"
     },
     "output_type": "display_data"
    }
   ],
   "source": [
    "window_size = 3\n",
    "trend_threshold = 2000\n",
    "corr_threshold = 0.75\n",
    "profit = cal_profit(wave, 1000, len(wave)-1-window_size, 1, window_size, trend_threshold, corr_threshold)\n",
    "plt.plot(profit)"
   ]
  },
  {
   "cell_type": "code",
   "execution_count": 33,
   "metadata": {},
   "outputs": [
    {
     "data": {
      "text/plain": [
       "0.0"
      ]
     },
     "execution_count": 33,
     "metadata": {},
     "output_type": "execute_result"
    }
   ],
   "source": [
    "np.sum(profit)"
   ]
  },
  {
   "cell_type": "markdown",
   "metadata": {},
   "source": [
    "## 其他分析"
   ]
  },
  {
   "cell_type": "code",
   "execution_count": 37,
   "metadata": {},
   "outputs": [
    {
     "data": {
      "image/png": "[encoded data removed]",
      "text/plain": [
       "<Figure size 432x288 with 1 Axes>"
      ]
     },
     "metadata": {
      "needs_background": "light"
     },
     "output_type": "display_data"
    }
   ],
   "source": [
    "wave.plot()"
   ]
  },
  {
   "cell_type": "code",
   "execution_count": 41,
   "metadata": {},
   "outputs": [
    {
     "data": {
      "image/png": "[encoded data removed]",
      "text/plain": [
       "<Figure size 432x288 with 1 Axes>"
      ]
     },
     "metadata": {
      "needs_background": "light"
     },
     "output_type": "display_data"
    }
   ],
   "source": [
    "spectrum1 = wave.make_spectrum()    # DFT, calculate the spectrum\n",
    "spectrum1.low_pass(cutoff=0.01) # low pass filter, 反映長期趨勢\n",
    "wave1 = spectrum1.make_wave()\n",
    "wave1.plot()"
   ]
  },
  {
   "cell_type": "code",
   "execution_count": 42,
   "metadata": {},
   "outputs": [
    {
     "data": {
      "image/png": "[encoded data removed]",
      "text/plain": [
       "<Figure size 432x288 with 1 Axes>"
      ]
     },
     "metadata": {
      "needs_background": "light"
     },
     "output_type": "display_data"
    }
   ],
   "source": [
    "spectrum2 = wave.make_spectrum()    # DFT, calculate the spectrum\n",
    "spectrum2.high_pass(cutoff=0.01)    # high pass filter, 反映短期趨勢\n",
    "wave2 = spectrum2.make_wave()\n",
    "wave2.plot()"
   ]
  }
 ],
 "metadata": {
  "interpreter": {
   "hash": "c93a216e4ed3772008dccc8fd7e37559c81d894a7dd81cd71384d65f646c0a45"
  },
  "kernelspec": {
   "display_name": "Python 3.9.7 ('base')",
   "language": "python",
   "name": "python3"
  },
  "language_info": {
   "codemirror_mode": {
    "name": "ipython",
    "version": 3
   },
   "file_extension": ".py",
   "mimetype": "text/x-python",
   "name": "python",
   "nbconvert_exporter": "python",
   "pygments_lexer": "ipython3",
   "version": "3.9.7"
  },
  "orig_nbformat": 4,
  "vscode": {
   "interpreter": {
    "hash": "09e93fcdc68a1dca2cb4d9ea696aa4bec5f2f761ad83a8a7e06f4cf4922a393b"
   }
  }
 },
 "nbformat": 4,
 "nbformat_minor": 2
}
