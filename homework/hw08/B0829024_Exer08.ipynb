{
  "nbformat": 4,
  "nbformat_minor": 0,
  "metadata": {
    "colab": {
      "name": "hw08.ipynb",
      "provenance": [],
      "collapsed_sections": []
    },
    "kernelspec": {
      "name": "python3",
      "display_name": "Python 3"
    },
    "language_info": {
      "name": "python"
    },
    "widgets": {
      "application/vnd.jupyter.widget-state+json": {
        "a22358d229714272a7efdcb941851730": {
          "model_module": "@jupyter-widgets/controls",
          "model_name": "VBoxModel",
          "model_module_version": "1.5.0",
          "state": {
            "_dom_classes": [
              "widget-interact"
            ],
            "_model_module": "@jupyter-widgets/controls",
            "_model_module_version": "1.5.0",
            "_model_name": "VBoxModel",
            "_view_count": null,
            "_view_module": "@jupyter-widgets/controls",
            "_view_module_version": "1.5.0",
            "_view_name": "VBoxView",
            "box_style": "",
            "children": [
              "IPY_MODEL_6dc8fd48af91404fa61e30c45fd30548",
              "IPY_MODEL_30c843ebf9c84a9d9171f2e8410a2336",
              "IPY_MODEL_2674e4597d8f4bec99044e1b638c0e4c"
            ],
            "layout": "IPY_MODEL_f8c90e945ed445fe9353072e501d24b2"
          }
        },
        "6dc8fd48af91404fa61e30c45fd30548": {
          "model_module": "@jupyter-widgets/controls",
          "model_name": "IntSliderModel",
          "model_module_version": "1.5.0",
          "state": {
            "_dom_classes": [],
            "_model_module": "@jupyter-widgets/controls",
            "_model_module_version": "1.5.0",
            "_model_name": "IntSliderModel",
            "_view_count": null,
            "_view_module": "@jupyter-widgets/controls",
            "_view_module_version": "1.5.0",
            "_view_name": "IntSliderView",
            "continuous_update": true,
            "description": "M",
            "description_tooltip": null,
            "disabled": false,
            "layout": "IPY_MODEL_2f75491c04604b13ac2f8ab56974130b",
            "max": 100,
            "min": 2,
            "orientation": "horizontal",
            "readout": true,
            "readout_format": "d",
            "step": 1,
            "style": "IPY_MODEL_7644aa87971d44e2b82c3c9436703d95",
            "value": 11
          }
        },
        "30c843ebf9c84a9d9171f2e8410a2336": {
          "model_module": "@jupyter-widgets/controls",
          "model_name": "FloatSliderModel",
          "model_module_version": "1.5.0",
          "state": {
            "_dom_classes": [],
            "_model_module": "@jupyter-widgets/controls",
            "_model_module_version": "1.5.0",
            "_model_name": "FloatSliderModel",
            "_view_count": null,
            "_view_module": "@jupyter-widgets/controls",
            "_view_module_version": "1.5.0",
            "_view_name": "FloatSliderView",
            "continuous_update": true,
            "description": "std",
            "description_tooltip": null,
            "disabled": false,
            "layout": "IPY_MODEL_b6f406460db048578d0e3d58cc01a217",
            "max": 20,
            "min": 0,
            "orientation": "horizontal",
            "readout": true,
            "readout_format": ".2f",
            "step": 0.1,
            "style": "IPY_MODEL_458da0c10182401ea9a1fc1e6ccc29f7",
            "value": 1.8
          }
        },
        "2674e4597d8f4bec99044e1b638c0e4c": {
          "model_module": "@jupyter-widgets/output",
          "model_name": "OutputModel",
          "model_module_version": "1.0.0",
          "state": {
            "_dom_classes": [],
            "_model_module": "@jupyter-widgets/output",
            "_model_module_version": "1.0.0",
            "_model_name": "OutputModel",
            "_view_count": null,
            "_view_module": "@jupyter-widgets/output",
            "_view_module_version": "1.0.0",
            "_view_name": "OutputView",
            "layout": "IPY_MODEL_cd82b2ff7b694385a5675df2cce4fccb",
            "msg_id": "",
            "outputs": [
              {
                "output_type": "display_data",
                "data": {
                  "text/plain": "<Figure size 432x288 with 1 Axes>",
                  "image/png": "iVBORw0KGgoAAAANSUhEUgAAAagAAAEYCAYAAAAJeGK1AAAABHNCSVQICAgIfAhkiAAAAAlwSFlzAAALEgAACxIB0t1+/AAAADh0RVh0U29mdHdhcmUAbWF0cGxvdGxpYiB2ZXJzaW9uMy4yLjIsIGh0dHA6Ly9tYXRwbG90bGliLm9yZy+WH4yJAAAgAElEQVR4nO3deXyU5b3//9dnsrNFNpF9B1kSAkS2AIJaBDfEFa1Wj1pPT2t7Tk9rS3tOq/V7zvfXxerva/Vb61K1PdS9IAoWRZawQ5CI7IvsCCI7siXk+v4xd+IQkjBJZuaeSd7Ph2Puuee+7+szN5P55Lru674uc84hIiISbwJ+ByAiIlIRJSgREYlLSlAiIhKXlKBERCQuKUGJiEhcSvY7gOpq0aKF69Spk99hiIhIhKxYseJL51zL8usTLkF16tSJgoICv8MQEZEIMbPtFa1XE5+IiMQlJSgREYlLSlAiIhKXlKBERCQuKUGJiEhcUoISEZG4FLUEZWZ/NrMvzGx1Ja+bmT1lZpvNbJWZDYhWLCIikniiWYN6GRhbxevjgO7e40Hgj1GMRUREEkzUEpRzLh84WMUm44G/uKAlwEVm1jpa8ZRauHAhU6dOZcaMGSxYsICNGzdy/PjxaBcrInXEvn37uPPOO+nSpQsDBw5k6NChTJkyJerlFhQU8IMf/CAix5o/fz59+vQhJyeH3bt3c8sttwAwd+5crrvuurLlRYsWRaS8mvJzJIm2wM6Q57u8dZ+X39DMHiRYy6JDhw61KvTQoUNs27aN06dPc+rUqbL1rVu3pmn7HuTl9qNNy6a1KkNE6ibnHDfeeCP33HMPf/vb3wDYvn0706ZNi3rZubm55ObmRuRYkydP5mc/+xl33XUXAG+99dZ528ydO5dGjRoxbNiwsI9bXFxMcnIE04pzLmoPoBOwupLX3gOGhzz/CMi90DEHDhzoIuXkyZNu+/btLj8/37344ouu40/fc1mT3nJvvvmm279/f8TKEZG6YdasWW7kyJGVvr5161Y3fPhw179/f9e/f3+3cOFC55xzc+bMcddee23Zdt/73vfcSy+95Jxz7qc//anr1auXy8rKcj/60Y+cc8698cYbrk+fPi47O9uNGDHivGMsXbrUDRkyxOXk5LihQ4e69evXO+ece+mll9yECRPc1Vdf7bp16+Yefvjh82J8/vnnXdOmTV2nTp3cnXfe6bZu3er69OlzThlbt251rVq1cm3atHH9+vVz+fn57osvvnA33XSTy83Ndbm5uW7BggXOOeceeeQRd9ddd7lhw4a5iRMn1ui8AgWugu97P2tQu4H2Ic/beetiJj09nQ4dOtChQwdGjBjBY5Omc9Sls2nTKtauXUtOTg5XXXUVDRo0iGVYIhKGf/zjH+zduzeix7zkkksYO7byS+dr1qxhwIDK+3NdfPHFfPjhh6Snp7Np0ybuuOOOKscOPXDgAFOmTGH9+vWYGYcPHwbgscceY+bMmbRt27ZsXahLL72U+fPnk5yczKxZs/j5z3/O22+/DUBhYSErV64kLS2Nnj178v3vf5/27b/+qn3ggQdYsGAB1113Hbfccgvbtm077/idOnXiO9/5Do0aNeLHP/4xAHfeeSc//OEPGT58ODt27ODqq69m3bp1AKxdu5YFCxaQkZFR6XutCT8T1DTgITN7DRgMHHHOnde854cf/OAHLFiwgGXLlrFhwwbGjRtH3759/Q5LROLM9773PRYsWEBqairLly+nqKiIhx56iMLCQpKSkti4cWOV+2dmZpKens7999/PddddV3b9Jy8vj3vvvZfbbruNm2666bz9jhw5wj333MOmTZswM4qKispeu/LKK8nMzASgd+/ebN++/ZwEVVOzZs1i7dq1Zc+PHj1adv3+hhtuiHhygigmKDN7FRgFtDCzXcAjQAqAc+5ZYAZwDbAZOAH8U7Riqa6GDRty9dVXk5OTw7vvvsvbb7/Nli1buOaaa0hJSfE7PBGBKms60dKnT5+ymgrAM888w5dffll2bejJJ5+kVatWfPLJJ5SUlJCeng5AcnIyJSUlZfuVXv9OTk5m2bJlfPTRR7z11ls8/fTTzJ49m2effZalS5cyffp0Bg4cyIoVK86J4xe/+AWjR49mypQpbNu2jVGjRpW9lpaWVraclJREcXFxRN57SUkJS5YsKXtPoRo2bBiRMsqLZi++O5xzrZ1zKc65ds65F51zz3rJidKmWOdcV+dclnMu7ubQaNWqFffddx8jR46ksLCQF154gUOHDvkdloj45IorruDUqVP88Y9f3xVz4sSJsuUjR47QunVrAoEAf/3rXzl79iwAHTt2ZO3atZw+fZrDhw/z0UcfAXD8+HGOHDnCNddcw5NPPsknn3wCwJYtWxg8eDCPPfYYLVu2ZOfO0P5kwXLatm0LwMsvvxyV99q4cWOOHTtW9nzMmDH84Q9/KHteWFgYlXJDaSSJCwgEAowePZpvfvObHD16lBdffJE9e/b4HZaI+MDMmDp1KvPmzaNz584MGjSIe+65h9/85jcAfPe73+WVV16hX79+rF+/vqxm0b59e2677Tb69u3LbbfdRv/+/QE4duwY1113HdnZ2QwfPpwnnngCgIcffpisrCz69u3LsGHD6Nev3zlx/OQnP+FnP/sZ/fv3j1gNqbzrr7+eKVOmkJOTw/z583nqqacoKCggOzub3r178+yzz0al3FAW7ECROHJzc120JizsNGk6ANt+fW2Fr3/55ZdMnjyZr776iltvvZXu3btHJQ4RkfrEzFY4587rQ68aVDW0aNGC+++/nxYtWvD666+zadMmv0MSEamzlKCqqVGjRtx9991cfPHFSlIiIlGkBFUDGRkZ5ySp7du3+x2SiEidowRVQxkZGdx1110cSm/N5X9czaYd6jghIhJJSlC10KBBA3Y27AnA//3bNI4ePepzRCIidYcSVC2VDox4pqiI119/PWpdPkVE6hslqAgZnpfHnj17mD59OonWdV9E/NeoUSMA9uzZUzb9RWFhITNmzKj2sR599FEef/zxiMYHsG3btrJR3CGyU4BURAkqQjp06FA24kS07tMSkbqvTZs2ZdNf1DRB1UZVrUDlE1Rubi5PPfVU1GJRgoqgUaNG0b17d/7xj3+cNzSJiNQNN954IwMHDqRPnz4899xzZesbNWrEww8/TJ8+fbjqqqtYtmwZo0aNokuXLmXzRb388suMHz++7LviV7/61XnH37ZtG3379uXMmTP88pe/5PXXXycnJ4fXX3/9vJpR3759y0Yj/+///m969OjB8OHD2bBhQ9k2W7ZsYezYsQwcOJARI0awfv3688p89NFHufvuu8nLy+Puu+9m27ZtjBgxggEDBjBgwICyiQsnTZrE/PnzycnJ4cknnzxngsODBw9y4403kp2dzZAhQ1i1alWtz7Wfo5nXOWbGTTfdxJ/+9Cf+/ve/88///M8VDqwoIrX3q3fXsHZPZDsm9W7ThEeu71PlNn/+859p1qwZJ0+e5LLLLuPmm2+mefPmfPXVV1xxxRX87ne/Y8KECfznf/4nH374IWvXruWee+7hhhtuAGDZsmWsXr2aBg0acNlll3HttddWOBFhamoqjz32GAUFBTz99NNAMJFUZMWKFbz22msUFhZSXFzMgAEDGDhwIAAPPvggzz77LN27d2fp0qV897vfZfbs2ecdI3TKjBMnTlQ4bcivf/1rHn/8cd577z0gOKlhqUceeYT+/fszdepUZs+ezbe+9a1aj9enBBVh6enp3HTTTbz00ku899573HzzzZiZ32GJSIQ89dRTZVO879y5k02bNtG8eXNSU1PLRljPysoiLS2NlJQUsrKyzplz6Rvf+AbNmzcH4KabbmLBggW1nil3/vz5TJgwoWzuutJkePz4cRYtWsStt95atu3p06crPEbolBnVnTYEYMGCBWUjvV9xxRUcOHCAo0eP0qRJkxq/LyWoKGjfvj2jR49m9uzZdO3atWxgSBGJnAvVdKJh7ty5zJo1i8WLF9OgQQNGjRpVNnVGSkpK2R+jgUCgbNqLQCBwznWd8n+wVucP2Mqm7ahMSUkJF110UVg1mdApMyqbNiTWdA0qQsp33MvLy6NTp068//77HDx40J+gRCSijhw5QtOmTWnQoAHr169nyZIl1T7Ghx9+yMGDBzl58iRTp04lLy+v0m3LT3nRqVMnPv74YwA+/vhjtm7dCsDIkSOZOnUqJ0+e5NixY7z77rsANGnShM6dO/Pmm28C4Jwrm9LjQu+zomlDyscTasSIEUyePBkIJvIWLVrUqvYESlC1VtkfP4FAgAkTJhAIBJg2bZq6novUAWPHjqW4uJhevXoxadIkhgwZUu1jDBo0iJtvvpns7GxuvvnmKpv3Ro8ezdq1a8s6Sdx8880cPHiQPn368PTTT9OjRw8ABgwYwO23306/fv0YN24cl112WdkxJk+ezIsvvki/fv3o06cP77zzzgVjrGzakOzsbJKSkujXrx9PPvnkOfs8+uijrFixguzsbCZNmsQrr7xS7XNTnqbbCHGh6TYq8s0XlrBw8wH+5/7BDO/e4rzXV65cybRp0xg7diyDBw+OWKwiknhefvnlczo9SJCm2/BJTk4O3bp146OPPlJTn4hINShBRZmZcf3116upT0S49957VXuqBiWoGGjSpAljxoxh+/btZRc4RUSkakpQMdK/f386duzIrFmz+Oqrr/wOR0Qk7ilBxYiZcc0113DmzBlmzZrldzgiInFPCSqGLr74YoYOHUphYaFm4RURuQAlqAhxhNf5YeTIkWRmZjJ9+vSym99EROR8SlC1ZFRvnL3U1FTGjRvHks/P8qdp86MUlYhI4lOC8kHPnj3JL+rCb5d+xfHjx/0OR0QkLilB+WzOnDl+hyAiEpeUoHy2cuVK9u7d63cYIiJxRwnKZ+np6cycOVMjTIiIlKME5bNRo0axbdu2c6ZoFhERJSjf5ebm0rJlSz744AN1OxcRCaEE5bNAIMCYMWM4dOgQ0ZpGREQkESlBRUhtLiF17dqVTp06kZ+fz+nTpyMXlIhIAlOCqqXKZtSt3jGMq666ihMnTrB48eLaH1BEpA6IaoIys7FmtsHMNpvZpApe72Bmc8xspZmtMrNrohlPPGvbti29evVi8eLFGu1cRIQoJigzSwKeAcYBvYE7zKx3uc3+E3jDOdcfmAj832jFkwiuuOIKioqKyM/P9zsUERHfRbMGNQjY7Jz7zDl3BngNGF9uGwc08ZYzgT1RjCfutWjRgv79+1NQUMChQ4f8DkdExFfRTFBtgZ0hz3d560I9CtxlZruAGcD3KzqQmT1oZgVmVrB///5oxBo3Ro0aRSAQ0BBIIlLv+d1J4g7gZedcO+Aa4K9mdl5MzrnnnHO5zrncli1bxjzIWGrcuDGDBw/m008/Zd++fX6HIyLim2gmqN1A+5Dn7bx1oe4H3gBwzi0G0oEWUYwpIeTl5ZGWlsa8efP8DkVExDfRTFDLge5m1tnMUgl2gphWbpsdwJUAZtaLYIJKyDa8SI6kl5GRweDBg1m3bp0GkhWReitqCco5Vww8BMwE1hHsrbfGzB4zsxu8zX4EfNvMPgFeBe51GjUVgKFDh5KWlsbcuXP9DkVExBfJ0Ty4c24Gwc4Poet+GbK8FsiLZgyJKj09naFDhzJ37lz27NlDmzZt/A5JRCSm/O4kIVUYPHgw6enpuhYlIvWSElQcS09PZ9iwYWzcuJHdu8v3LxERqduUoOLcoEGDyMjI0LUoEal3lKDiXFpaGsOGDWPz5s3s3LnzwjuIiNQRSlAJYNCgQTRo0EBj9IlIvaIElQBSU1MZMmQImzdvZs+eej1coYjUI0pQERLt27cGDRpEeno68+fPj2o5IiLxQgmqliwSMxaGIS0tjZY9B/LTlY1YvHZbTMoUEfGTElQC2R1oBcD/zC70ORIRkehTgkogySnBgT/27dvHgQMHfI5GRCS6lKASkFmABQsW+B2GiEhUKUEloLZt27Bq1SoOHz7sdygiIlGjBJWAOnbsBMCiRYv8DUREJIqUoGrJj9lB0tPT6devHx9//DHHjh2LefkiIrGgBBUhsepuDuBwDB8+nJKSEhYvXhyzckVEYkkJKkJiUZMyvk6CzZo1o2/fvhQUFHDy5Mmoly0iEmtKULUUy5pTeXl5eRQVFbFs2TLfYhARiRYlqATWqlUrunfvzrJlyygqKvI7HBGRiFKCSnB5eXmcOHGClStX+h2KiEhEKUEluA4dOtC+fXsWL15MSUmJ3+GIiESMElQCCu2PYWbk5eVx+PBh1qxZ419QIiIRpgSVQCrrj9GjRw9atmzJwoULfbkvS0QkGi6YoMws08yeNLMC7/F7M8uMRXASHjNj2LBh7Nu3j82bN/sdjohIRIRTg/ozcBS4zXscBV6KZlBSfVlZWTRp0oSFCxf6HYqISESEk6C6Oucecc595j1+BXSJdmCJxu+GtaSkJIYMGcL27dvZtWuXz9GIiNReOAnqpJkNL31iZnmAhi7w+Heb7vkGDhxIenq6alEiUickh7HNvwCveNedDDgI3BvNoKRmUlNTGTRoEPn5+ezfv5+WLVv6HZKISI1dsAblnCt0zvUDsoEs51x/59wn0Q9NamLQoEEkJydrKg4RSXiV1qDM7C7n3P+Y2b+XWw+Ac+6JKMcm5YTTnNiwYUP69+/PihUrGD16NE2aNIl6XCIi0VBVDaqh97NxBY9GUY5LamHYsGE451iyZInfoYiI1FilNSjn3J+8xVnOuXOuunsdJSROXXTRRfTt25cVK1YwYsQIMjIy/A5JRKTawunF94cw10kcycvL48yZMyxfvtzvUEREaqSqa1BDgWFAy3LXoZoASdEOLOH4fSNUOa1ataJbt24sXbqUoUOHkpKS4ndIIiLVUlUNKpXgtaZkzr3+dBS4JZyDm9lYM9tgZpvNbFIl29xmZmvNbI2Z/a164ddP4Y63VzoVR2FhYZQjEhGJvKquQc0D5pnZy8657dU9sJklAc8A3wB2AcvNbJpzbm3INt2BnwF5zrlDZnZxtd+Bz2I5oW51y+rYsSNt27Zl8eLFDBw4kEBAYwOLSOII5xvrhJn9zsxmmNns0kcY+w0CNnvDI50BXgPGl9vm28AzzrlDAM65L6oVvVSpdCqOgwcP8elqTcUhIoklnAQ1GVgPdAZ+BWwDwrny3hbYGfJ8l7cuVA+gh5ktNLMlZjY2jONKNVx66aVMKerHLa9u01QcIpJQwklQzZ1zLwJFzrl5zrn7gCsiVH4y0B0YBdwBPG9mF5XfyMweLJ3uY//+/REqun4wM46cTaHIBfjss8/8DkdEJGzhJKgi7+fnZnatmfUHmoWx326gfcjzdt66ULuAac65IufcVmAjwYR1Dufcc865XOdcrsaXqzkNIisiiSScBPVf3kCxPwJ+DLwA/DCM/ZYD3c2ss5mlAhOBaeW2mUqw9oSZtSDY5Kc/86Nk69at7Nmzx+8wRETCUmWC8nridXfOHXHOrXbOjXbODXTOlU8053HOFQMPATOBdcAbzrk1ZvaYmd3gbTYTOGBma4E5wMPOuQO1ekf1QE0vJaWlpakWJSIJo8rpNpxzZ83sDuDJmhzcOTcDmFFu3S9Dlh3w794jobkY3KlrtZx9Kjc3l0WLFnHw4EGaNQunlVZExD/hNPEtNLOnzWyEmQ0ofUQ9sgQRTxMWXsiQIUMIBAKaikNEEkI4ExbmeD8fC1nniFxPPomRRo0a0a9fPwoLCxk1ahSNGmlQehGJX+FMWDi6goeSU4IaNmwYZ8+eZenSpX6HIiJSJY19U880b96c3r17s3z5ck6fPu13OCIilVKCSiClHTFq2x0jLy+P06dPU1BQUPugRESiRAmqHmrTpg2dO3dmyZIlFBcX+x2OiEiFLpigzKyBmf3CzJ73nnc3s+uiH5qUV9rNPBI9B/Py8jh+/DirVq2KwNFERCIvnBrUS8BpYKj3fDfwX1GLSGKiS5cuXHLJJSxatEiDyIpIXAonQXV1zv0Wb0w+59wJEuv2n5hItO/40qk4Dhw4wPr16/0OR0TkPOEkqDNmloF3bd7MuhKsUQnBL/pE1bt3by666CIWLlyoWpSIxJ1wEtQjwD+A9mY2GfgI+ElUo5KYCAQCDBs2jN27d7N9e7UnTRYRiapwbtT9ELgJuBd4Fch1zs2NblhSlUjWdXJycmjQoIEGkRWRuFNpgio37l5H4HNgD9BBY/H5IxqtiSkpKQwePJjNmzezb9++yBcgIlJDVdWgfu89ngGWAs8Bz3vLz0Q/NImVyy67jJSUFNWiRCSuVJqgSsfdI1hzGuDNaDsQ6M/5M+NKAsvIyGDgwIGsXr2aw4cP+x2OiAgQXieJns65T0ufOOdWA72iF5L4YciQIZgZixcv9jsUEREgvAS1ysxeMLNR3uN5QMMP1DGZmZlkZWXx8ccfc+LECb/DEREJK0H9E7AG+FfvsdZbJyFieRtRtMrKy8ujuLiYZcuWRacAEZFquOCEhc65UwSnfK/RtO91XeLepnu+li1b0qNHD5YtW8awYcNITU31OyQRqcfCGSx2q5l9Vv4Ri+DkXLFIhnl5eZw8eZKVK1fGoDQRkcqFM+V7bshyOnAr0Cw64YjfOnToQIcOHVi0aBG5ubkkJSX5HZKI1FPhjCRxIOSx2zn3/wPXxiC2hFAXR7AbMWIER48e5ZNPPvE7FBGpxy5Ygyo3akSAYI0qnJpXvZLAY8aep2vXrrRp04Y5+QvJyckhENC8liISe+Ekmt+HLBcDW4HbohOOxAMzo3O/ITzw9x0E3lnCDycM8zskEamHwklQ9zvnzukUYWadoxSPhMHFoGHxTEZzYAczVu3iX8eXqBYlIjEXzrfOW2Guq9dich9UDNsRS6eXP3P6DGvXro1ZuSIipSqtQZnZpUAfINPMbgp5qQnB3nxSD6SlpZKfn0+fPn0SenJGEUk8VTXx9QSuAy4Crg9Zfwz4djSDSiR1/Su7eYsW7N+/jvXr19Orl4ZgFJHYqTRBOefeAd4xs6HOOY0gWs+UVpYaN25Cs5Jm5Ofnc+mll6oWJSIxU9WEhaXTut9pZk+Vf8QoPvGZGQwfPpy9e/eyadMmv8MRkXqkqia+dd7PglgEIuGL5cC0ANnZ2eTn55Ofn0/37t1VixKRmKiqie9d7+crsQtH4lFSUhJ5eXlMnz6dzz77jK5du/odkojUA1X14nuXKkbycc7dEJWIpFJ+1FtKa2s5OTnMnz+fefPm0aVLF9WiRCTqqmriezxmUUgcOjcBJScnM3z4cGbMmMGWLVvo1q2bT3GJSH1RaScJ59y80gewGDgEHAQWe+suyMzGmtkGM9tsZpOq2O5mM3NmllvZNvGuLg4aW96AAQPIzMxkzpw5uFhfCBOReiec+aCuBbYATwFPA5vNbFwY+yUBzwDjgN7AHWbWu4LtGhOcqXdp9UKXWEtKSmLkyJHs2bOHjRs3+h2OiNRx4Qx19HtgtHNulHPucmA04c2uOwjY7Jz7zDl3BngNGF/Bdv8L+A1wKsyY40pdvxRTvp7Ur18/mjZtyty5c1WLEpGoCidBHXPObQ55/hnB0SQupC2wM+T5Lm9dGW8qj/bOuelhHE88fg77l5SUxOWXX87evXtZt25dxRuJiERAOAmqwMxmmNm9ZnYP8C6w3MxuKjdGX7WYWQB4AvhRGNs+aGYFZlawf//+mhaZ8OKltpaVlUWLFi2YO3cuJSUlfocjInVUOAkqHdgHXA6MAvYDGQTH57uuiv12A+1Dnrfz1pVqDPQF5prZNmAIMK2ijhLOueecc7nOudyWLVuGEbJEUyAQYNSoUezfv581a9b4HY6I1FEXnA/KOfdPNTz2cqC7N3fUbmAicGfIcY8ALUqfm9lc4MfOOY1cEUcqu8zUu3dvWrVqxbx58+jTp4/mixKRiAunF19nM3vCzP5uZtNKHxfazzlXDDwEzCQ4bNIbzrk1ZvaYmekm3zh3odZEM2PUqFEcOHCAVatWxSQmEalfwplRdyrwIsFrT9W64OCcmwHMKLful5VsO6o6xxb/9ezZk9atWzNv3jz69u1LcnI4HycRkfCE0y5zyjn3lHNuTrmbdyVEfexybWZceeWVHD58mIICtcyKSGSFk6D+j5k9YmZDzWxA6SPqkSWMOOla55OuXbvSpUsX8vPzOXUqIW9lE5E4FU6CyiI4g+6vCd60+3s0Tl89cuGa4VVXXcXJkydZuHBhDOIRkfoinIsGtwJdvNEgpJ6ozmjlrVu3pm/fvixZsoRBgwbRuHHjKEYmIvVFODWo1cBF0Q5EEtsVV1xBSUkJc+fO9TsUEakjwklQFwHrzWxmdbqZS2KrbqePpk2bkpuby8qVK/nyyy+jFJWI1CfhNPE9EvUopE4YOXIk7xVs5tFX83n6+zUeBUtEBAijBhXatdzrXn4WuC36oUmlYtClvSYz5jZs2JDpX3Xhvd1p7NixIwpRiUh9Etb4NGbW38x+542Z978IjgwhMWYJ1KV95syZ9fLeMBGJnEoTlJn18O5/Wg/8AdgBmHNutHPu6ZhFmCD0VXyuPXv2aAgkEamVqmpQ64ErgOucc8Odc38g2LwnIeJlCoxoqWklqG3btsyaNYszZ3R3gojUTFUJ6ibgc2COmT1vZldS34dNqEdq+w999dVXc/z4cRYsWBCReESk/qk0QTnnpjrnJgKXAnOAfwMuNrM/mtmYWAUoial9+/ZkZWWxaNEiDh8+7Hc4IpKAwunF95Vz7m/OuesJTjq4Evhp1COThHfllVdiZsyaNcvvUEQkAVVrljnn3CFvdtsroxWQXFgsO2TUpqzMzEzy8vJYs2YN27dvj1hMIlI/aBrUBJKIHTLy8vJo0qQJ77//PiUl1ZpOTETqOSUoqVCkkmFKSgpXX301+/btY9myZZE5qIjUC0pQEnW9evWiW7duzJkzh2PHjvkdjogkCCWoCNGgCZUzM8aNG8fZs2eZOXOm3+GISIJQgqqlBLwsVC2RGq6oWbNmjBgxgjVr1rBly5aIHFNE6jYlqAQUi9paNDpk5OXl0axZM2bMmEFxcXHkCxCROkUJSmImOTmZa665hoMHD2qECRG5IAIOAdoAABV5SURBVCWoBFIXmhO7du1K3759WbBgAfv37/c7HBGJY0pQUqVotCaOHTuW1NRU3nnnHd0bJSKVUoKSCkVz7qmGDRsybtw4du/ezdKlS6NWjogkNiUo8UXfvn3p0aMHs2fP5uDBg36HIyJxSAkqYnQjVHWYGddeey1JSUlMmzZNs++KyHmUoBKQi2EyjGbeaNKkCWPGjGH79u0UFBREryARSUhKUAkkEQeLvZD+/fvTpUsXnpq+gvXbP/c7HBGJI0pQ4iszY8gVY5l/qj33/nkpZ8+e9TskEYkTSlARUwerNzGS0aAhAMfOlJCfn+9zNCISL5SgpEqxbFZMSUll/vz57Ny5M3aFikjcUoKSKsVm3L9gFszISCczM5MpU6Zw+vTp6BcsInFNCSoBxaRHti8tlsaECRM4fPgw06dPV9dzkXouqgnKzMaa2QYz22xmkyp4/d/NbK2ZrTKzj8ysYzTjkfgUmgs7dOjA5ZdfzqeffsrHH3/sW0wi4r+oJSgzSwKeAcYBvYE7zKx3uc1WArnOuWzgLeC30Yon+qL/177VxX7mIUorTCNHjqRr1668//777N2719+gRMQ30axBDQI2O+c+c86dAV4Dxodu4Jyb45w74T1dArSLYjxSAzFpTbTyz4NNfQ0aNODNN9/k1KlTMYhCROJNNBNUWyC0O9Yub11l7gfer+gFM3vQzArMrCDepmioq5UaP95W6AgZDRs25JZbbuHQoUMaCkmknoqLThJmdheQC/yuotedc88553Kdc7ktW7aMbXASdZWNnN6hQweuvPJK1q1bx8KFC2MclYj4LTmKx94NtA953s5bdw4zuwr4D+By55z6FtdjFVWShg0bxueff85HH33ExRdfTI8ePWIfmIj4Ipo1qOVAdzPrbGapwERgWugGZtYf+BNwg3PuiyjGIjUUi6a1qppJzYzx48fTunVr3n77bc3CK1KPRC1BOeeKgYeAmcA64A3n3Boze8zMbvA2+x3QCHjTzArNbFolh5N6LCUlhdtvv52UlBReffVVTpw4ceGdRCThRfUalHNuhnOuh3Ouq3Puv711v3TOTfOWr3LOtXLO5XiPG6o+osRKvHVpz8zM5Pbbb+fo0aO8+eabFBcX+x2SiERZXHSSEIELd2lv3749N9xwA9u2beOdd95Rzz6ROi6anSTqFX1XxkZ2djZHjx7lo48+onHjxowZM8bvkEQkSpSgaqmyLtISvtIzGG6Sz8vL4+jRo8xZtIw9Z9K597qRUYtNRPyjJr4EVGfHig2TmTF27FjmWjaPLjjGJ5984ndIIhIFSlDiv7JsGH7qDQQCfH4yCYB33nmH1atXRz4uEfGVEpQkvPbt2/P3v/+ddevW+R2KiESQEpRUKSYTFtayQfGOO+6gbdu2vPXWW2zcuDFCUYmI35SgpEJ+3AZV02SYmprGN7/5TS655BJef/111q5dG9nARMQXSlDiu0gkw/T0dO6+++6ymtTKlStrf1AR8ZUSlMSNmrYmlu6Xnp7OXXfdRZcuXZg2bRqLFy+OVGgi4gMlqAiJ5X26sbwp2MVipuBa7h86okRqaioTJ06kV69efPDBB3z44YcacUIkQSlB1VIsr9XE2fB4caN8+klOTuaWW25h4MCBLFq0iDfffJOioiJfYhORmtNIElInBQIBrr32Wpo3b84HH3zAkSNHmDhxIo0bN/Y7NBEJk2pQUqVYDuVU3aa40hplZbuZGUOHDmXixIns37+f559/nl27dtUyShGJFSUoqVJMrkHVsO2ybAy/C8TYs2dP7rvvPpKTk3nppZdYunSprkuJJAAlKIkb0UwZl1xyCd/+9rfp1q0bt0/5kjufmMbp06ejWKKI1JYSVAKKTc+62DXt1bSk0ppXuJWhjIwMJk6cCMDi/ck8++yz7Nixo4ali0i0KUFJ3Khuq1tNElv55sSXXnqJWbNmaYZekTikBBUhiTBmnZzrO9/5Dv3792fhwoW88MIL7N692++QRCSEEpRUKSaJt6w3XmR78V1IWloaN9xwAxMnTuTEiRO88MILTJ8+nVOnTtXsgCISUboPqpbq6s2zifS+antNrmfPnnTq1InZs2ezfPly1q1bx5gxY8jKyqpxD0MRqT3VoCRuVDfNlDZ5RqKWl5aWxrhx43jggQfIzMxkypQpPP/882zdurX2BxeRGlGCEgnRpk0bHnjgASZMmMCJEyf4y1/+wt/+9jf27t3rd2gi9Y6a+BJRLAeLjUFZZWVUvwpVo90ueFgzsrOz6d27N0uXLmX+/Pn89o8vs6thT343MZeOHdpHuEQRqYgSVALR5ZBzlY0kEaUsmpycTF5eHgMHDmTME3PYcbCEx198jUHdLmHo0KF07dpV16hEokgJSiqkr92vpaen06RxIzh6lMGDB7Nv3XImT55Ms2bNuOyyy8jJySE9Pd3vMEXqHCUoSVgWpSa+igS8wrKyspk4Zhjr1q1j2bJlzJw5k9mzZ9OnTx/69etHx44dVasSiRAlqAiJxfBDfojl+/KzF98Fy/KSTolzJCcnk5WVRVZWFnv27GH58uWsXbuWwsJCMjMzyc7OJisri5YtW0Y/MJE6TAlKJAxfj5x+rjZt2jB+/HjGjRvH+vXrWbVqFQsWLGD+/Pk0b96cjDY9yLq0K5f16qKalUg1KUHVkh/DD8WkTpNI36VxMNpFamoq2dnZZGdnc+zYMdatW8eGDRv4xbIiWLae77ecSrdu3ejcuTNdunShUaNG0Q9aJMEpQUncqPFQRzHIUIGyJr4Lb9u4cWMGDRrEoEGD+MWk6QB06NCBDRs2UFhYCMDFF19M586d6dChA+3ataNJkyZRi10kUSlBJZBEqtTUNYFajvt36623UlJSwt69e/nss8/YunUrBQUFLF26FIAmTZrQvn172rZtS5s2bWjWoiWNGzaIUPQiiUkJSqoUy4lna3ifbkxHkq/NPVeBQIA2bdrQpk0bhg8fztmzZ/n888/ZtWtX2WPNmjXsPJvJrDPd+WaLHWS1a0qrVq245JJLaNGiBU2bNiU5Wb+2Uj/oky4VSoSpPcomLIxJWcGf4TTxhSspKYl27drRrl27snXHjh3jZ29/AuuPcKLBJRw4sIeNGzeWJUYzIzMzk+bNm5c9mjVrRmZmJpmZmaSmpkYuQBGfRTVBmdlY4P8AScALzrlfl3s9DfgLMBA4ANzunNsWzZgkftW0chKtkSRCBcqSYXTLaty4MS2aNQWOkJWdw33DJ1BUVMT+/fv58ssvOXDgAAcPHuTAgQPs3LmTM2fOlO377qleuECAb7f/sixhNWnShMaNG9OwYUMaNWpEw4YNadCgAUlJSVF9HyKRELUEZWZJwDPAN4BdwHIzm+acWxuy2f3AIedcNzObCPwGuD1aMUndEss6Xm3nnqqOlKRgYcUlJcHnKSllTYOhnHMcP36cQ4cOceTIEV6avAPOQmZmJkeOHGHHjh2Vzm2VkZFBo0aNSM1oyD++vIgJXQJc3CSd9PTgIyMj45zl1NRUUlNTSUlJIRDQGNMVcc7pVoIIi2YNahCw2Tn3GYCZvQaMB0IT1HjgUW/5LeBpMzMXxT+Jn8vfwurdR6vc5gevrgz7eNM//RyAJz7cyAdr9lU7nuqUlb9pPwAvLtjK3iPVn1SvOmVtP3gCgKVbD1Zrv5qUdaY4+EV8suhstfY7djo4TfvPp3xKWnL1awTVKWvRlgMA/Pr99XRu0TCqZb2/OviZenr25gt+ViuymEshE8iEkpKzFBcXlz2Kios5W/rz2Fm2fw6HipIpOABdk/eGVRs1Mz4rborDuDTjOIFAgEDACASSzv+rwTucc46zzrH3VDItU4tJNueV5bykX1quhZQTfH6gKJkkg6YpxZVsE7IupPxdJ1NomXqW9KSQ92TBolzwf+eU7xzsPZ3CweIUumd8RRKubLvzfoaMcOwcbCluCkCXpIPnx1RRnMCXZ9M5XJJOm+SvaBgoLvcWzPsv5A15z3edTicj6SwtUoq+3rrc8UvPXalTJQH2nk6mdVoRqVYS8r6/fi9lP4NvEAdsOp0JQLeUw5z/bxV0/+U9ufMbg4iGaCaotsDOkOe7gMGVbeOcKzazI0Bz4MvQjczsQeBBCHbXrY1tB07w6e4jVW5zoddDpSYHOFNcwqkzZ6u1X03KSvb+cm2YmhT1skr/eq/ufrXZp6b7bdx3POplmQVrT4dOnOH47uIL71CLshqmJXP4RBEpSYEonPtkyn7tk6BBwxIOHT5JcsAouag9zjnvUUJJiQt5/vUDwBUHf35Z0gB39twvuKocLErmYFEyzVPPAlywxuGc43BRgLPOOO3C+yOkNI7DRUkcLkqiWUrF/14VlX2wOFjGgbMZBMz7irdzk58FKojZK+KrtObnxFCVr856PwMNKU4KYx/vAujxkgDHS5JxgZTzNqnsGMUl8NXZJLadDJCZUlLhez9nXbmXjyZfVOm2lh69e/oSopOEc+454DmA3NzcWtWu/veErIjEJCIi0RXNxuTdQOjEOe28dRVuY2bJBBsmDkQxJhERSRDRTFDLge5m1tnMUoGJwLRy20wD7vGWbwFmR/P6k4iIJI6oNfF515QeAmYS7Gb+Z+fcGjN7DChwzk0DXgT+amabgYMEk5iIiEh0r0E552YAM8qt+2XI8ing1mjGICIiiUk3NIiISFxSghIRkbikBCUiInFJCUpEROKSEpSIiMQlS7TbjsxsP7C9lodpQbnhlOSCdM6qT+es+nTOqq8unLOOzrmW5VcmXIKKBDMrcM7l+h1HItE5qz6ds+rTOau+unzO1MQnIiJxSQlKRETiUn1NUM/5HUAC0jmrPp2z6tM5q746e87q5TUoERGJf/W1BiUiInFOCUpEROJSvUtQZjbWzDaY2WYzm+R3PH4ys21m9qmZFZpZgbeumZl9aGabvJ9NvfVmZk95522VmQ0IOc493vabzOyeyspLRGb2ZzP7wsxWh6yL2Dkys4Hev8Fmb9+q50BPAJWcs0fNbLf3WSs0s2tCXvuZ9/43mNnVIesr/F315phb6q1/3ZtvLqGZWXszm2Nma81sjZn9q7e+fn/WnHP15kFwXqotQBcgFfgE6O13XD6ej21Ai3LrfgtM8pYnAb/xlq8B3gcMGAIs9dY3Az7zfjb1lpv6/d4ieI5GAgOA1dE4R8Ayb1vz9h3n93uO0jl7FPhxBdv29n4P04DO3u9nUlW/q8AbwERv+VngX/x+zxE4Z62BAd5yY2Cjd27q9WetvtWgBgGbnXOfOefOAK8B432OKd6MB17xll8BbgxZ/xcXtAS4yMxaA1cDHzrnDjrnDgEfAmNjHXS0OOfyCU6mGSoi58h7rYlzbokLfoP8JeRYCauSc1aZ8cBrzrnTzrmtwGaCv6cV/q56f/VfAbzl7R96/hOWc+5z59zH3vIxYB3Qlnr+WatvCaotsDPk+S5vXX3lgA/MbIWZPeita+Wc+9xb3gu08pYrO3f18ZxG6hy19ZbLr6+rHvKao/5c2lRF9c9Zc+Cwc6643Po6w8w6Af2BpdTzz1p9S1ByruHOuQHAOOB7ZjYy9EXvLy3dh1AFnaOw/RHoCuQAnwO/9zec+GRmjYC3gX9zzh0Nfa0+ftbqW4LaDbQPed7OW1cvOed2ez+/AKYQbFbZ5zUH4P38wtu8snNXH89ppM7Rbm+5/Po6xzm3zzl31jlXAjxP8LMG1T9nBwg2ZyWXW5/wzCyFYHKa7Jz7u7e6Xn/W6luCWg5093oBpQITgWk+x+QLM2toZo1Ll4ExwGqC56O05889wDve8jTgW17voSHAEa/pYSYwxsyaes02Y7x1dVlEzpH32lEzG+JdW/lWyLHqlNIvWc8Egp81CJ6ziWaWZmadge4EL+ZX+Lvq1SLmALd4+4ee/4Tl/fu/CKxzzj0R8lL9/qz53Usj1g+CvV82Euwh9B9+x+PjeehCsGfUJ8Ca0nNBsI3/I2ATMAto5q034BnvvH0K5IYc6z6CF7c3A//k93uL8Hl6lWCTVBHBdvv7I3mOgFyCX9ZbgKfxRndJ5Ecl5+yv3jlZRfDLtXXI9v/hvf8NhPQsq+x31fvsLvPO5ZtAmt/vOQLnbDjB5rtVQKH3uKa+f9Y01JGIiMSl+tbEJyIiCUIJSkRE4pISlIiIxCUlKBERiUtKUCIiEpeUoEQAMzsbMtJ2oTfcTJ1gZv3N7EVv+V4ze7rc63PNLLeK/V8zs+7RjlOkvOQLbyJSL5x0zuVU9IJ3Y6O54CgIiejnwH/VYv8/Aj8Bvh2ZcETCoxqUSAXMrJM3F9FfCN7c2N7MHjaz5d6Ap78K2fY/zGyjmS0ws1fN7Mfe+rKaiZm1MLNt3nKSmf0u5Fj/7K0f5e3zlpmtN7PJpXP2mNllZrbIzD4xs2Vm1tjM8s0sJySOBWbWr9z7aAxkO+c+CeM93xBSg9xgZlu9l+YDV4UMLyQSE/rAiQRlmFmht7wV+CHBYXfucc4tMbMx3vNBBO/in+YNrvsVwWF4cgj+Pn0MrLhAWfcTHJrmMjNLAxaa2Qfea/2BPsAeYCGQZ2bLgNeB251zy82sCXCS4NA49wL/ZmY9gPQKElHp6AGhbjez4SHPuwE456bhDf1lZm8A87z1JWa2GegXxnsTiRglKJGgc5r4vGtQ211wrh0Ijmk2BljpPW9EMGE1BqY45054+4UztuMYINvMSseTy/SOdQZY5pzb5R2rEOgEHAE+d84tB3DeKNdm9ibwCzN7mODwNi9XUFZrYH+5da875x4Kea9zQ180s58QPB/PhKz+AmiDEpTEkBKUSOW+Clk24P9zzv0pdAMz+7cq9i/m62b09HLH+r5z7pxBdc1sFHA6ZNVZqvgddc6dMLMPCU5edxswsILNTpYru0pmdhVwK8FZcUOle8cSiRldgxIJz0zgPgvO14OZtTWzi4F84EYzy/Cu91wfss82vk4at5Q71r9YcHoFzKyHN6J8ZTYArc3sMm/7xiHXg14AngKWu+AMquWtw2vCuxAz60hwANJbnXPlk1EPzm8qFIkq1aBEwuCc+8DMegGLvX4Lx4G7nHMfm9nrBEeF/4LgNBGlHgfesOBsxdND1r9AsOnuY68TxH6qmH7bOXfGzG4H/mBmGQRrMlcBx51zK8zsKPBSJfuuN7NMM2vsglOJV+VegqNnT/Xe4x7n3DVm1opgk9/eC+wvElEazVwkgszsUYKJ4/EYldcGmAtcWlk3eDP7IXDMOfdCDcv4IXDUOfdijQMVqQE18YkkKDP7FrCU4FxJVd2j9UfOvbZVXYeBV2qxv0iNqAYlIiJxSTUoERGJS0pQIiISl5SgREQkLilBiYhIXFKCEhGRuPT/AAxXfDcm2dPKAAAAAElFTkSuQmCC\n"
                },
                "metadata": {
                  "needs_background": "light"
                }
              }
            ]
          }
        },
        "f8c90e945ed445fe9353072e501d24b2": {
          "model_module": "@jupyter-widgets/base",
          "model_name": "LayoutModel",
          "model_module_version": "1.2.0",
          "state": {
            "_model_module": "@jupyter-widgets/base",
            "_model_module_version": "1.2.0",
            "_model_name": "LayoutModel",
            "_view_count": null,
            "_view_module": "@jupyter-widgets/base",
            "_view_module_version": "1.2.0",
            "_view_name": "LayoutView",
            "align_content": null,
            "align_items": null,
            "align_self": null,
            "border": null,
            "bottom": null,
            "display": null,
            "flex": null,
            "flex_flow": null,
            "grid_area": null,
            "grid_auto_columns": null,
            "grid_auto_flow": null,
            "grid_auto_rows": null,
            "grid_column": null,
            "grid_gap": null,
            "grid_row": null,
            "grid_template_areas": null,
            "grid_template_columns": null,
            "grid_template_rows": null,
            "height": null,
            "justify_content": null,
            "justify_items": null,
            "left": null,
            "margin": null,
            "max_height": null,
            "max_width": null,
            "min_height": null,
            "min_width": null,
            "object_fit": null,
            "object_position": null,
            "order": null,
            "overflow": null,
            "overflow_x": null,
            "overflow_y": null,
            "padding": null,
            "right": null,
            "top": null,
            "visibility": null,
            "width": null
          }
        },
        "2f75491c04604b13ac2f8ab56974130b": {
          "model_module": "@jupyter-widgets/base",
          "model_name": "LayoutModel",
          "model_module_version": "1.2.0",
          "state": {
            "_model_module": "@jupyter-widgets/base",
            "_model_module_version": "1.2.0",
            "_model_name": "LayoutModel",
            "_view_count": null,
            "_view_module": "@jupyter-widgets/base",
            "_view_module_version": "1.2.0",
            "_view_name": "LayoutView",
            "align_content": null,
            "align_items": null,
            "align_self": null,
            "border": null,
            "bottom": null,
            "display": null,
            "flex": null,
            "flex_flow": null,
            "grid_area": null,
            "grid_auto_columns": null,
            "grid_auto_flow": null,
            "grid_auto_rows": null,
            "grid_column": null,
            "grid_gap": null,
            "grid_row": null,
            "grid_template_areas": null,
            "grid_template_columns": null,
            "grid_template_rows": null,
            "height": null,
            "justify_content": null,
            "justify_items": null,
            "left": null,
            "margin": null,
            "max_height": null,
            "max_width": null,
            "min_height": null,
            "min_width": null,
            "object_fit": null,
            "object_position": null,
            "order": null,
            "overflow": null,
            "overflow_x": null,
            "overflow_y": null,
            "padding": null,
            "right": null,
            "top": null,
            "visibility": null,
            "width": null
          }
        },
        "7644aa87971d44e2b82c3c9436703d95": {
          "model_module": "@jupyter-widgets/controls",
          "model_name": "SliderStyleModel",
          "model_module_version": "1.5.0",
          "state": {
            "_model_module": "@jupyter-widgets/controls",
            "_model_module_version": "1.5.0",
            "_model_name": "SliderStyleModel",
            "_view_count": null,
            "_view_module": "@jupyter-widgets/base",
            "_view_module_version": "1.2.0",
            "_view_name": "StyleView",
            "description_width": "",
            "handle_color": null
          }
        },
        "b6f406460db048578d0e3d58cc01a217": {
          "model_module": "@jupyter-widgets/base",
          "model_name": "LayoutModel",
          "model_module_version": "1.2.0",
          "state": {
            "_model_module": "@jupyter-widgets/base",
            "_model_module_version": "1.2.0",
            "_model_name": "LayoutModel",
            "_view_count": null,
            "_view_module": "@jupyter-widgets/base",
            "_view_module_version": "1.2.0",
            "_view_name": "LayoutView",
            "align_content": null,
            "align_items": null,
            "align_self": null,
            "border": null,
            "bottom": null,
            "display": null,
            "flex": null,
            "flex_flow": null,
            "grid_area": null,
            "grid_auto_columns": null,
            "grid_auto_flow": null,
            "grid_auto_rows": null,
            "grid_column": null,
            "grid_gap": null,
            "grid_row": null,
            "grid_template_areas": null,
            "grid_template_columns": null,
            "grid_template_rows": null,
            "height": null,
            "justify_content": null,
            "justify_items": null,
            "left": null,
            "margin": null,
            "max_height": null,
            "max_width": null,
            "min_height": null,
            "min_width": null,
            "object_fit": null,
            "object_position": null,
            "order": null,
            "overflow": null,
            "overflow_x": null,
            "overflow_y": null,
            "padding": null,
            "right": null,
            "top": null,
            "visibility": null,
            "width": null
          }
        },
        "458da0c10182401ea9a1fc1e6ccc29f7": {
          "model_module": "@jupyter-widgets/controls",
          "model_name": "SliderStyleModel",
          "model_module_version": "1.5.0",
          "state": {
            "_model_module": "@jupyter-widgets/controls",
            "_model_module_version": "1.5.0",
            "_model_name": "SliderStyleModel",
            "_view_count": null,
            "_view_module": "@jupyter-widgets/base",
            "_view_module_version": "1.2.0",
            "_view_name": "StyleView",
            "description_width": "",
            "handle_color": null
          }
        },
        "cd82b2ff7b694385a5675df2cce4fccb": {
          "model_module": "@jupyter-widgets/base",
          "model_name": "LayoutModel",
          "model_module_version": "1.2.0",
          "state": {
            "_model_module": "@jupyter-widgets/base",
            "_model_module_version": "1.2.0",
            "_model_name": "LayoutModel",
            "_view_count": null,
            "_view_module": "@jupyter-widgets/base",
            "_view_module_version": "1.2.0",
            "_view_name": "LayoutView",
            "align_content": null,
            "align_items": null,
            "align_self": null,
            "border": null,
            "bottom": null,
            "display": null,
            "flex": null,
            "flex_flow": null,
            "grid_area": null,
            "grid_auto_columns": null,
            "grid_auto_flow": null,
            "grid_auto_rows": null,
            "grid_column": null,
            "grid_gap": null,
            "grid_row": null,
            "grid_template_areas": null,
            "grid_template_columns": null,
            "grid_template_rows": null,
            "height": null,
            "justify_content": null,
            "justify_items": null,
            "left": null,
            "margin": null,
            "max_height": null,
            "max_width": null,
            "min_height": null,
            "min_width": null,
            "object_fit": null,
            "object_position": null,
            "order": null,
            "overflow": null,
            "overflow_x": null,
            "overflow_y": null,
            "padding": null,
            "right": null,
            "top": null,
            "visibility": null,
            "width": null
          }
        },
        "1277f39672ab455bb296bb2c2c37b1a9": {
          "model_module": "@jupyter-widgets/controls",
          "model_name": "VBoxModel",
          "model_module_version": "1.5.0",
          "state": {
            "_dom_classes": [
              "widget-interact"
            ],
            "_model_module": "@jupyter-widgets/controls",
            "_model_module_version": "1.5.0",
            "_model_name": "VBoxModel",
            "_view_count": null,
            "_view_module": "@jupyter-widgets/controls",
            "_view_module_version": "1.5.0",
            "_view_name": "VBoxView",
            "box_style": "",
            "children": [
              "IPY_MODEL_2d3fa6b594c3409c9f761982c727c0f4",
              "IPY_MODEL_02812e25a734455dac3149627367f41b",
              "IPY_MODEL_ef5f57f07a544481ae27dac5fe08c39e"
            ],
            "layout": "IPY_MODEL_576c7612479a459eaa3998c95d989fa1"
          }
        },
        "2d3fa6b594c3409c9f761982c727c0f4": {
          "model_module": "@jupyter-widgets/controls",
          "model_name": "IntSliderModel",
          "model_module_version": "1.5.0",
          "state": {
            "_dom_classes": [],
            "_model_module": "@jupyter-widgets/controls",
            "_model_module_version": "1.5.0",
            "_model_name": "IntSliderModel",
            "_view_count": null,
            "_view_module": "@jupyter-widgets/controls",
            "_view_module_version": "1.5.0",
            "_view_name": "IntSliderView",
            "continuous_update": true,
            "description": "M",
            "description_tooltip": null,
            "disabled": false,
            "layout": "IPY_MODEL_3676a8309fb94fe68e3bdaa152023dc2",
            "max": 100,
            "min": 2,
            "orientation": "horizontal",
            "readout": true,
            "readout_format": "d",
            "step": 1,
            "style": "IPY_MODEL_e2212eee86794e98ba133b59965f267a",
            "value": 11
          }
        },
        "02812e25a734455dac3149627367f41b": {
          "model_module": "@jupyter-widgets/controls",
          "model_name": "FloatSliderModel",
          "model_module_version": "1.5.0",
          "state": {
            "_dom_classes": [],
            "_model_module": "@jupyter-widgets/controls",
            "_model_module_version": "1.5.0",
            "_model_name": "FloatSliderModel",
            "_view_count": null,
            "_view_module": "@jupyter-widgets/controls",
            "_view_module_version": "1.5.0",
            "_view_name": "FloatSliderView",
            "continuous_update": true,
            "description": "std",
            "description_tooltip": null,
            "disabled": false,
            "layout": "IPY_MODEL_9ffac756ad68498abf6579b7dc682b2f",
            "max": 20,
            "min": 0,
            "orientation": "horizontal",
            "readout": true,
            "readout_format": ".2f",
            "step": 0.1,
            "style": "IPY_MODEL_f4ec78721ba64efc92d88c437501111e",
            "value": 2
          }
        },
        "ef5f57f07a544481ae27dac5fe08c39e": {
          "model_module": "@jupyter-widgets/output",
          "model_name": "OutputModel",
          "model_module_version": "1.0.0",
          "state": {
            "_dom_classes": [],
            "_model_module": "@jupyter-widgets/output",
            "_model_module_version": "1.0.0",
            "_model_name": "OutputModel",
            "_view_count": null,
            "_view_module": "@jupyter-widgets/output",
            "_view_module_version": "1.0.0",
            "_view_name": "OutputView",
            "layout": "IPY_MODEL_19a4036de9aa4290bf175872ccbe441c",
            "msg_id": "",
            "outputs": [
              {
                "output_type": "display_data",
                "data": {
                  "text/plain": "<Figure size 432x288 with 1 Axes>",
                  "image/png": "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\n"
                },
                "metadata": {
                  "needs_background": "light"
                }
              }
            ]
          }
        },
        "576c7612479a459eaa3998c95d989fa1": {
          "model_module": "@jupyter-widgets/base",
          "model_name": "LayoutModel",
          "model_module_version": "1.2.0",
          "state": {
            "_model_module": "@jupyter-widgets/base",
            "_model_module_version": "1.2.0",
            "_model_name": "LayoutModel",
            "_view_count": null,
            "_view_module": "@jupyter-widgets/base",
            "_view_module_version": "1.2.0",
            "_view_name": "LayoutView",
            "align_content": null,
            "align_items": null,
            "align_self": null,
            "border": null,
            "bottom": null,
            "display": null,
            "flex": null,
            "flex_flow": null,
            "grid_area": null,
            "grid_auto_columns": null,
            "grid_auto_flow": null,
            "grid_auto_rows": null,
            "grid_column": null,
            "grid_gap": null,
            "grid_row": null,
            "grid_template_areas": null,
            "grid_template_columns": null,
            "grid_template_rows": null,
            "height": null,
            "justify_content": null,
            "justify_items": null,
            "left": null,
            "margin": null,
            "max_height": null,
            "max_width": null,
            "min_height": null,
            "min_width": null,
            "object_fit": null,
            "object_position": null,
            "order": null,
            "overflow": null,
            "overflow_x": null,
            "overflow_y": null,
            "padding": null,
            "right": null,
            "top": null,
            "visibility": null,
            "width": null
          }
        },
        "3676a8309fb94fe68e3bdaa152023dc2": {
          "model_module": "@jupyter-widgets/base",
          "model_name": "LayoutModel",
          "model_module_version": "1.2.0",
          "state": {
            "_model_module": "@jupyter-widgets/base",
            "_model_module_version": "1.2.0",
            "_model_name": "LayoutModel",
            "_view_count": null,
            "_view_module": "@jupyter-widgets/base",
            "_view_module_version": "1.2.0",
            "_view_name": "LayoutView",
            "align_content": null,
            "align_items": null,
            "align_self": null,
            "border": null,
            "bottom": null,
            "display": null,
            "flex": null,
            "flex_flow": null,
            "grid_area": null,
            "grid_auto_columns": null,
            "grid_auto_flow": null,
            "grid_auto_rows": null,
            "grid_column": null,
            "grid_gap": null,
            "grid_row": null,
            "grid_template_areas": null,
            "grid_template_columns": null,
            "grid_template_rows": null,
            "height": null,
            "justify_content": null,
            "justify_items": null,
            "left": null,
            "margin": null,
            "max_height": null,
            "max_width": null,
            "min_height": null,
            "min_width": null,
            "object_fit": null,
            "object_position": null,
            "order": null,
            "overflow": null,
            "overflow_x": null,
            "overflow_y": null,
            "padding": null,
            "right": null,
            "top": null,
            "visibility": null,
            "width": null
          }
        },
        "e2212eee86794e98ba133b59965f267a": {
          "model_module": "@jupyter-widgets/controls",
          "model_name": "SliderStyleModel",
          "model_module_version": "1.5.0",
          "state": {
            "_model_module": "@jupyter-widgets/controls",
            "_model_module_version": "1.5.0",
            "_model_name": "SliderStyleModel",
            "_view_count": null,
            "_view_module": "@jupyter-widgets/base",
            "_view_module_version": "1.2.0",
            "_view_name": "StyleView",
            "description_width": "",
            "handle_color": null
          }
        },
        "9ffac756ad68498abf6579b7dc682b2f": {
          "model_module": "@jupyter-widgets/base",
          "model_name": "LayoutModel",
          "model_module_version": "1.2.0",
          "state": {
            "_model_module": "@jupyter-widgets/base",
            "_model_module_version": "1.2.0",
            "_model_name": "LayoutModel",
            "_view_count": null,
            "_view_module": "@jupyter-widgets/base",
            "_view_module_version": "1.2.0",
            "_view_name": "LayoutView",
            "align_content": null,
            "align_items": null,
            "align_self": null,
            "border": null,
            "bottom": null,
            "display": null,
            "flex": null,
            "flex_flow": null,
            "grid_area": null,
            "grid_auto_columns": null,
            "grid_auto_flow": null,
            "grid_auto_rows": null,
            "grid_column": null,
            "grid_gap": null,
            "grid_row": null,
            "grid_template_areas": null,
            "grid_template_columns": null,
            "grid_template_rows": null,
            "height": null,
            "justify_content": null,
            "justify_items": null,
            "left": null,
            "margin": null,
            "max_height": null,
            "max_width": null,
            "min_height": null,
            "min_width": null,
            "object_fit": null,
            "object_position": null,
            "order": null,
            "overflow": null,
            "overflow_x": null,
            "overflow_y": null,
            "padding": null,
            "right": null,
            "top": null,
            "visibility": null,
            "width": null
          }
        },
        "f4ec78721ba64efc92d88c437501111e": {
          "model_module": "@jupyter-widgets/controls",
          "model_name": "SliderStyleModel",
          "model_module_version": "1.5.0",
          "state": {
            "_model_module": "@jupyter-widgets/controls",
            "_model_module_version": "1.5.0",
            "_model_name": "SliderStyleModel",
            "_view_count": null,
            "_view_module": "@jupyter-widgets/base",
            "_view_module_version": "1.2.0",
            "_view_name": "StyleView",
            "description_width": "",
            "handle_color": null
          }
        },
        "19a4036de9aa4290bf175872ccbe441c": {
          "model_module": "@jupyter-widgets/base",
          "model_name": "LayoutModel",
          "model_module_version": "1.2.0",
          "state": {
            "_model_module": "@jupyter-widgets/base",
            "_model_module_version": "1.2.0",
            "_model_name": "LayoutModel",
            "_view_count": null,
            "_view_module": "@jupyter-widgets/base",
            "_view_module_version": "1.2.0",
            "_view_name": "LayoutView",
            "align_content": null,
            "align_items": null,
            "align_self": null,
            "border": null,
            "bottom": null,
            "display": null,
            "flex": null,
            "flex_flow": null,
            "grid_area": null,
            "grid_auto_columns": null,
            "grid_auto_flow": null,
            "grid_auto_rows": null,
            "grid_column": null,
            "grid_gap": null,
            "grid_row": null,
            "grid_template_areas": null,
            "grid_template_columns": null,
            "grid_template_rows": null,
            "height": null,
            "justify_content": null,
            "justify_items": null,
            "left": null,
            "margin": null,
            "max_height": null,
            "max_width": null,
            "min_height": null,
            "min_width": null,
            "object_fit": null,
            "object_position": null,
            "order": null,
            "overflow": null,
            "overflow_x": null,
            "overflow_y": null,
            "padding": null,
            "right": null,
            "top": null,
            "visibility": null,
            "width": null
          }
        },
        "09627256e7ff4b519131330866fcb8ce": {
          "model_module": "@jupyter-widgets/controls",
          "model_name": "VBoxModel",
          "model_module_version": "1.5.0",
          "state": {
            "_dom_classes": [
              "widget-interact"
            ],
            "_model_module": "@jupyter-widgets/controls",
            "_model_module_version": "1.5.0",
            "_model_name": "VBoxModel",
            "_view_count": null,
            "_view_module": "@jupyter-widgets/controls",
            "_view_module_version": "1.5.0",
            "_view_name": "VBoxView",
            "box_style": "",
            "children": [
              "IPY_MODEL_ecd2d704d66e49828a1d41ac27b6687d",
              "IPY_MODEL_c542280802bb46b3bee6a359425b4a9b"
            ],
            "layout": "IPY_MODEL_3d3ffc1b9a2946c89640cc6c163418e3"
          }
        },
        "ecd2d704d66e49828a1d41ac27b6687d": {
          "model_module": "@jupyter-widgets/controls",
          "model_name": "IntSliderModel",
          "model_module_version": "1.5.0",
          "state": {
            "_dom_classes": [],
            "_model_module": "@jupyter-widgets/controls",
            "_model_module_version": "1.5.0",
            "_model_name": "IntSliderModel",
            "_view_count": null,
            "_view_module": "@jupyter-widgets/controls",
            "_view_module_version": "1.5.0",
            "_view_name": "IntSliderView",
            "continuous_update": true,
            "description": "M",
            "description_tooltip": null,
            "disabled": false,
            "layout": "IPY_MODEL_5a032c697e8340fea355b1128de98ae8",
            "max": 100,
            "min": 2,
            "orientation": "horizontal",
            "readout": true,
            "readout_format": "d",
            "step": 1,
            "style": "IPY_MODEL_b379b88dca6241248a66dc8f5ac388b3",
            "value": 11
          }
        },
        "c542280802bb46b3bee6a359425b4a9b": {
          "model_module": "@jupyter-widgets/output",
          "model_name": "OutputModel",
          "model_module_version": "1.0.0",
          "state": {
            "_dom_classes": [],
            "_model_module": "@jupyter-widgets/output",
            "_model_module_version": "1.0.0",
            "_model_name": "OutputModel",
            "_view_count": null,
            "_view_module": "@jupyter-widgets/output",
            "_view_module_version": "1.0.0",
            "_view_name": "OutputView",
            "layout": "IPY_MODEL_a12d3d88730e4da797310edfe838a3e6",
            "msg_id": "",
            "outputs": [
              {
                "output_type": "display_data",
                "data": {
                  "text/plain": "<Figure size 432x288 with 1 Axes>",
                  "image/png": "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\n"
                },
                "metadata": {
                  "needs_background": "light"
                }
              }
            ]
          }
        },
        "3d3ffc1b9a2946c89640cc6c163418e3": {
          "model_module": "@jupyter-widgets/base",
          "model_name": "LayoutModel",
          "model_module_version": "1.2.0",
          "state": {
            "_model_module": "@jupyter-widgets/base",
            "_model_module_version": "1.2.0",
            "_model_name": "LayoutModel",
            "_view_count": null,
            "_view_module": "@jupyter-widgets/base",
            "_view_module_version": "1.2.0",
            "_view_name": "LayoutView",
            "align_content": null,
            "align_items": null,
            "align_self": null,
            "border": null,
            "bottom": null,
            "display": null,
            "flex": null,
            "flex_flow": null,
            "grid_area": null,
            "grid_auto_columns": null,
            "grid_auto_flow": null,
            "grid_auto_rows": null,
            "grid_column": null,
            "grid_gap": null,
            "grid_row": null,
            "grid_template_areas": null,
            "grid_template_columns": null,
            "grid_template_rows": null,
            "height": null,
            "justify_content": null,
            "justify_items": null,
            "left": null,
            "margin": null,
            "max_height": null,
            "max_width": null,
            "min_height": null,
            "min_width": null,
            "object_fit": null,
            "object_position": null,
            "order": null,
            "overflow": null,
            "overflow_x": null,
            "overflow_y": null,
            "padding": null,
            "right": null,
            "top": null,
            "visibility": null,
            "width": null
          }
        },
        "5a032c697e8340fea355b1128de98ae8": {
          "model_module": "@jupyter-widgets/base",
          "model_name": "LayoutModel",
          "model_module_version": "1.2.0",
          "state": {
            "_model_module": "@jupyter-widgets/base",
            "_model_module_version": "1.2.0",
            "_model_name": "LayoutModel",
            "_view_count": null,
            "_view_module": "@jupyter-widgets/base",
            "_view_module_version": "1.2.0",
            "_view_name": "LayoutView",
            "align_content": null,
            "align_items": null,
            "align_self": null,
            "border": null,
            "bottom": null,
            "display": null,
            "flex": null,
            "flex_flow": null,
            "grid_area": null,
            "grid_auto_columns": null,
            "grid_auto_flow": null,
            "grid_auto_rows": null,
            "grid_column": null,
            "grid_gap": null,
            "grid_row": null,
            "grid_template_areas": null,
            "grid_template_columns": null,
            "grid_template_rows": null,
            "height": null,
            "justify_content": null,
            "justify_items": null,
            "left": null,
            "margin": null,
            "max_height": null,
            "max_width": null,
            "min_height": null,
            "min_width": null,
            "object_fit": null,
            "object_position": null,
            "order": null,
            "overflow": null,
            "overflow_x": null,
            "overflow_y": null,
            "padding": null,
            "right": null,
            "top": null,
            "visibility": null,
            "width": null
          }
        },
        "b379b88dca6241248a66dc8f5ac388b3": {
          "model_module": "@jupyter-widgets/controls",
          "model_name": "SliderStyleModel",
          "model_module_version": "1.5.0",
          "state": {
            "_model_module": "@jupyter-widgets/controls",
            "_model_module_version": "1.5.0",
            "_model_name": "SliderStyleModel",
            "_view_count": null,
            "_view_module": "@jupyter-widgets/base",
            "_view_module_version": "1.2.0",
            "_view_name": "StyleView",
            "description_width": "",
            "handle_color": null
          }
        },
        "a12d3d88730e4da797310edfe838a3e6": {
          "model_module": "@jupyter-widgets/base",
          "model_name": "LayoutModel",
          "model_module_version": "1.2.0",
          "state": {
            "_model_module": "@jupyter-widgets/base",
            "_model_module_version": "1.2.0",
            "_model_name": "LayoutModel",
            "_view_count": null,
            "_view_module": "@jupyter-widgets/base",
            "_view_module_version": "1.2.0",
            "_view_name": "LayoutView",
            "align_content": null,
            "align_items": null,
            "align_self": null,
            "border": null,
            "bottom": null,
            "display": null,
            "flex": null,
            "flex_flow": null,
            "grid_area": null,
            "grid_auto_columns": null,
            "grid_auto_flow": null,
            "grid_auto_rows": null,
            "grid_column": null,
            "grid_gap": null,
            "grid_row": null,
            "grid_template_areas": null,
            "grid_template_columns": null,
            "grid_template_rows": null,
            "height": null,
            "justify_content": null,
            "justify_items": null,
            "left": null,
            "margin": null,
            "max_height": null,
            "max_width": null,
            "min_height": null,
            "min_width": null,
            "object_fit": null,
            "object_position": null,
            "order": null,
            "overflow": null,
            "overflow_x": null,
            "overflow_y": null,
            "padding": null,
            "right": null,
            "top": null,
            "visibility": null,
            "width": null
          }
        }
      }
    }
  },
  "cells": [
    {
      "cell_type": "code",
      "execution_count": 2,
      "metadata": {
        "colab": {
          "base_uri": "https://localhost:8080/"
        },
        "id": "Wr0Y_pLI0aN9",
        "outputId": "2c6f486a-ff71-439e-8e14-eac777a94dbc"
      },
      "outputs": [
        {
          "output_type": "stream",
          "name": "stdout",
          "text": [
            "--2022-05-12 10:52:41--  https://github.com/AllenDowney/ThinkDSP/raw/master/code/thinkdsp.py\n",
            "Resolving github.com (github.com)... 192.30.255.113\n",
            "Connecting to github.com (github.com)|192.30.255.113|:443... connected.\n",
            "HTTP request sent, awaiting response... 302 Found\n",
            "Location: https://raw.githubusercontent.com/AllenDowney/ThinkDSP/master/code/thinkdsp.py [following]\n",
            "--2022-05-12 10:52:41--  https://raw.githubusercontent.com/AllenDowney/ThinkDSP/master/code/thinkdsp.py\n",
            "Resolving raw.githubusercontent.com (raw.githubusercontent.com)... 185.199.108.133, 185.199.109.133, 185.199.110.133, ...\n",
            "Connecting to raw.githubusercontent.com (raw.githubusercontent.com)|185.199.108.133|:443... connected.\n",
            "HTTP request sent, awaiting response... 200 OK\n",
            "Length: 48687 (48K) [text/plain]\n",
            "Saving to: ‘thinkdsp.py’\n",
            "\n",
            "thinkdsp.py         100%[===================>]  47.55K  --.-KB/s    in 0.005s  \n",
            "\n",
            "2022-05-12 10:52:41 (9.49 MB/s) - ‘thinkdsp.py’ saved [48687/48687]\n",
            "\n"
          ]
        }
      ],
      "source": [
        "# Get thinkdsp.py\n",
        "\n",
        "import os\n",
        "\n",
        "if not os.path.exists('thinkdsp.py'):\n",
        "    !wget https://github.com/AllenDowney/ThinkDSP/raw/master/code/thinkdsp.py"
      ]
    },
    {
      "cell_type": "code",
      "source": [
        "import numpy as np\n",
        "import scipy.signal\n",
        "import matplotlib.pyplot as plt\n",
        "\n",
        "from thinkdsp import decorate\n",
        "from thinkdsp import Wave"
      ],
      "metadata": {
        "id": "VqRnfoAQ0fij"
      },
      "execution_count": 16,
      "outputs": []
    },
    {
      "cell_type": "code",
      "source": [
        "# suppress scientific notation for small numbers\n",
        "np.set_printoptions(precision=3, suppress=True)"
      ],
      "metadata": {
        "id": "wGkjFQpX0hfg"
      },
      "execution_count": 4,
      "outputs": []
    },
    {
      "cell_type": "markdown",
      "source": [
        "# HW02"
      ],
      "metadata": {
        "id": "Pl-Ffd3b4xkI"
      }
    },
    {
      "cell_type": "code",
      "source": [
        "def zero_pad(array, n):\n",
        "    \"\"\"Extends an array with zeros.\n",
        "\n",
        "    array: NumPy array\n",
        "    n: length of result\n",
        "\n",
        "    returns: new NumPy array\n",
        "    \"\"\"\n",
        "    res = np.zeros(n)\n",
        "    res[:len(array)] = array\n",
        "    return res"
      ],
      "metadata": {
        "id": "LMPo9dBu6Id5"
      },
      "execution_count": 11,
      "outputs": []
    },
    {
      "cell_type": "code",
      "source": [
        "from thinkdsp import SquareSignal\n",
        "\n",
        "def plot_filter(M=11, std=2):\n",
        "    signal = SquareSignal(freq=440)\n",
        "    wave = signal.make_wave(duration=1, framerate=44100)\n",
        "    spectrum = wave.make_spectrum()\n",
        "\n",
        "    gaussian = scipy.signal.gaussian(M=M, std=std)\n",
        "    gaussian /= sum(gaussian)\n",
        "\n",
        "    ys = np.convolve(wave.ys, gaussian, mode='same')\n",
        "    smooth =  Wave(ys, framerate=wave.framerate)\n",
        "    spectrum2 = smooth.make_spectrum()\n",
        "\n",
        "    # plot the ratio of the original and smoothed spectrum\n",
        "    amps = spectrum.amps\n",
        "    amps2 = spectrum2.amps\n",
        "    ratio = amps2 / amps    \n",
        "    ratio[amps<560] = 0\n",
        "\n",
        "    # plot the same ratio along with the FFT of the window\n",
        "    padded =  zero_pad(gaussian, len(wave))\n",
        "    dft_gaussian = np.fft.rfft(padded)\n",
        "\n",
        "    plt.plot(np.abs(dft_gaussian), color='gray', label='Gaussian filter')\n",
        "    plt.plot(ratio, label='amplitude ratio')\n",
        "\n",
        "    decorate(xlabel='Frequency (Hz)', ylabel='Amplitude ratio')\n",
        "    plt.show()"
      ],
      "metadata": {
        "id": "9w2LlvvF0i_G"
      },
      "execution_count": 13,
      "outputs": []
    },
    {
      "cell_type": "code",
      "source": [
        "from ipywidgets import interact, interactive, fixed\n",
        "import ipywidgets as widgets\n",
        "\n",
        "slider = widgets.IntSlider(min=2, max=100, value=11)\n",
        "slider2 = widgets.FloatSlider(min=0, max=20, value=2)\n",
        "interact(plot_filter, M=slider, std=slider2);"
      ],
      "metadata": {
        "colab": {
          "base_uri": "https://localhost:8080/",
          "height": 361,
          "referenced_widgets": [
            "a22358d229714272a7efdcb941851730",
            "6dc8fd48af91404fa61e30c45fd30548",
            "30c843ebf9c84a9d9171f2e8410a2336",
            "2674e4597d8f4bec99044e1b638c0e4c",
            "f8c90e945ed445fe9353072e501d24b2",
            "2f75491c04604b13ac2f8ab56974130b",
            "7644aa87971d44e2b82c3c9436703d95",
            "b6f406460db048578d0e3d58cc01a217",
            "458da0c10182401ea9a1fc1e6ccc29f7",
            "cd82b2ff7b694385a5675df2cce4fccb"
          ]
        },
        "id": "OPSa4zO15DwX",
        "outputId": "1dcc4317-19ed-435c-f839-c28361288607"
      },
      "execution_count": 14,
      "outputs": [
        {
          "output_type": "display_data",
          "data": {
            "text/plain": [
              "interactive(children=(IntSlider(value=11, description='M', min=2), FloatSlider(value=2.0, description='std', m…"
            ],
            "application/vnd.jupyter.widget-view+json": {
              "version_major": 2,
              "version_minor": 0,
              "model_id": "a22358d229714272a7efdcb941851730"
            }
          },
          "metadata": {}
        }
      ]
    },
    {
      "cell_type": "markdown",
      "source": [
        "在以上的程式碼，可以在執行時拖動std變量，觀察fft(dft)結果。\n",
        "\n",
        "\n",
        "在gaussian distribution中，std代表數據的分散程度。當std越高，窗函數越集中，在卷積運算時平滑程度較差。當std越低時，窗函數分散，平滑效果越好，呈現的結果與smoothing window較為相近，同樣會出現旁瓣（sidelobes）的問題。"
      ],
      "metadata": {
        "id": "ZiuF48gxC7Rz"
      }
    },
    {
      "cell_type": "code",
      "source": [
        "from thinkdsp import SquareSignal\n",
        "\n",
        "def plot_filter(M=11, std=2):\n",
        "    signal = SquareSignal(freq=440)\n",
        "    wave = signal.make_wave(duration=1, framerate=44100)\n",
        "    spectrum = wave.make_spectrum()\n",
        "\n",
        "    gaussian = scipy.signal.gaussian(M=M, std=std)\n",
        "    gaussian /= sum(gaussian)\n",
        "\n",
        "    ys = np.convolve(wave.ys, gaussian, mode='same')\n",
        "    smooth =  Wave(ys, framerate=wave.framerate)\n",
        "    spectrum2 = smooth.make_spectrum()\n",
        "\n",
        "    # plot the ratio of the original and smoothed spectrum\n",
        "    amps = spectrum.amps\n",
        "    amps2 = spectrum2.amps\n",
        "    ratio = amps2 / amps    \n",
        "    ratio[amps<560] = 0\n",
        "\n",
        "    # plot the same ratio along with the FFT of the window\n",
        "    padded =  zero_pad(gaussian, len(wave))\n",
        "    dft_gaussian = np.fft.rfft(padded)\n",
        "\n",
        "    plt.plot(np.abs(dft_gaussian), color='gray', label='Gaussian filter')\n",
        "    plt.yscale(\"log\")\n",
        "    plt.plot(ratio, label='amplitude ratio')\n",
        "\n",
        "    decorate(xlabel='Frequency (Hz)', ylabel='Amplitude ratio')\n",
        "    plt.show()\n",
        "\n",
        "from ipywidgets import interact, interactive, fixed\n",
        "import ipywidgets as widgets\n",
        "\n",
        "slider = widgets.IntSlider(min=2, max=100, value=11)\n",
        "slider2 = widgets.FloatSlider(min=0, max=20, value=2)\n",
        "interact(plot_filter, M=slider, std=slider2);"
      ],
      "metadata": {
        "colab": {
          "base_uri": "https://localhost:8080/",
          "height": 361,
          "referenced_widgets": [
            "1277f39672ab455bb296bb2c2c37b1a9",
            "2d3fa6b594c3409c9f761982c727c0f4",
            "02812e25a734455dac3149627367f41b",
            "ef5f57f07a544481ae27dac5fe08c39e",
            "576c7612479a459eaa3998c95d989fa1",
            "3676a8309fb94fe68e3bdaa152023dc2",
            "e2212eee86794e98ba133b59965f267a",
            "9ffac756ad68498abf6579b7dc682b2f",
            "f4ec78721ba64efc92d88c437501111e",
            "19a4036de9aa4290bf175872ccbe441c"
          ]
        },
        "id": "f56lHCI8KMxt",
        "outputId": "748e454f-9790-48e2-867c-c7abfd2071ee"
      },
      "execution_count": 25,
      "outputs": [
        {
          "output_type": "display_data",
          "data": {
            "text/plain": [
              "interactive(children=(IntSlider(value=11, description='M', min=2), FloatSlider(value=2.0, description='std', m…"
            ],
            "application/vnd.jupyter.widget-view+json": {
              "version_major": 2,
              "version_minor": 0,
              "model_id": "1277f39672ab455bb296bb2c2c37b1a9"
            }
          },
          "metadata": {}
        }
      ]
    },
    {
      "cell_type": "markdown",
      "source": [
        "以上的程式碼是y軸在log維度下的結果。"
      ],
      "metadata": {
        "id": "CY2SS0ABKZU0"
      }
    },
    {
      "cell_type": "markdown",
      "source": [
        "# HW03"
      ],
      "metadata": {
        "id": "s0ILWfisKJGm"
      }
    },
    {
      "cell_type": "code",
      "source": [
        "def hamming_window(M=10):\n",
        "  window = scipy.signal.hamming(M)\n",
        "  return window\n",
        "\n",
        "my_window = hamming_window()\n",
        "plt.plot(my_window)"
      ],
      "metadata": {
        "colab": {
          "base_uri": "https://localhost:8080/",
          "height": 284
        },
        "id": "lXY-rM7oGIkV",
        "outputId": "6dc8e6e7-8e04-4ae4-d040-076954d5efc4"
      },
      "execution_count": 17,
      "outputs": [
        {
          "output_type": "execute_result",
          "data": {
            "text/plain": [
              "[<matplotlib.lines.Line2D at 0x7fd25c597990>]"
            ]
          },
          "metadata": {},
          "execution_count": 17
        },
        {
          "output_type": "display_data",
          "data": {
            "text/plain": [
              "<Figure size 432x288 with 1 Axes>"
            ],
            "image/png": "[encoded data removed]"
          },
          "metadata": {
            "needs_background": "light"
          }
        }
      ]
    },
    {
      "cell_type": "code",
      "source": [
        "from thinkdsp import SquareSignal\n",
        "\n",
        "def plot_filter2(M=11):\n",
        "    signal = SquareSignal(freq=440)\n",
        "    wave = signal.make_wave(duration=1, framerate=44100)\n",
        "    spectrum = wave.make_spectrum()\n",
        "\n",
        "    hamming = hamming_window(M)\n",
        "\n",
        "    ys = np.convolve(wave.ys, hamming, mode='same')\n",
        "    smooth =  Wave(ys, framerate=wave.framerate)\n",
        "    spectrum2 = smooth.make_spectrum()\n",
        "\n",
        "    # plot the ratio of the original and smoothed spectrum\n",
        "    amps = spectrum.amps\n",
        "    amps2 = spectrum2.amps\n",
        "    ratio = amps2 / amps    \n",
        "    ratio[amps<560] = 0\n",
        "\n",
        "    # plot the same ratio along with the FFT of the window\n",
        "    padded =  zero_pad(hamming, len(wave))\n",
        "    dft_gaussian = np.fft.rfft(padded)\n",
        "\n",
        "    plt.plot(np.abs(dft_gaussian), color='gray', label='Hamming filter')\n",
        "    plt.yscale(\"log\")\n",
        "    plt.plot(ratio, label='amplitude ratio')\n",
        "\n",
        "    decorate(xlabel='Frequency (Hz)', ylabel='Amplitude ratio')\n",
        "    plt.show()"
      ],
      "metadata": {
        "id": "zNZERMZyEzTU"
      },
      "execution_count": 23,
      "outputs": []
    },
    {
      "cell_type": "code",
      "source": [
        "from ipywidgets import interact, interactive, fixed\n",
        "import ipywidgets as widgets\n",
        "\n",
        "slider = widgets.IntSlider(min=2, max=100, value=11)\n",
        "interact(plot_filter2, M=slider);"
      ],
      "metadata": {
        "colab": {
          "base_uri": "https://localhost:8080/",
          "height": 329,
          "referenced_widgets": [
            "09627256e7ff4b519131330866fcb8ce",
            "ecd2d704d66e49828a1d41ac27b6687d",
            "c542280802bb46b3bee6a359425b4a9b",
            "3d3ffc1b9a2946c89640cc6c163418e3",
            "5a032c697e8340fea355b1128de98ae8",
            "b379b88dca6241248a66dc8f5ac388b3",
            "a12d3d88730e4da797310edfe838a3e6"
          ]
        },
        "id": "WP6_5jcKH5UW",
        "outputId": "cee8985d-3b57-42af-b6c1-04c335c16b72"
      },
      "execution_count": 24,
      "outputs": [
        {
          "output_type": "display_data",
          "data": {
            "text/plain": [
              "interactive(children=(IntSlider(value=11, description='M', min=2), Output()), _dom_classes=('widget-interact',…"
            ],
            "application/vnd.jupyter.widget-view+json": {
              "version_major": 2,
              "version_minor": 0,
              "model_id": "09627256e7ff4b519131330866fcb8ce"
            }
          },
          "metadata": {}
        }
      ]
    },
    {
      "cell_type": "markdown",
      "source": [
        "以下為兩種結果在y=log維度下的比對。\n",
        "\n",
        "\n",
        "![image.png](data:image/png;base64,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)![image.png](data:image/png;base64,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)"
      ],
      "metadata": {
        "id": "FywiLRBSK3Ng"
      }
    },
    {
      "cell_type": "markdown",
      "source": [
        "在M(窗大小相同)的情況，我看不出差別啊 qwq"
      ],
      "metadata": {
        "id": "XOwx78Y5LtQs"
      }
    }
  ]
}